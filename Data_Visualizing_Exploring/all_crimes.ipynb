{
 "cells": [
  {
   "cell_type": "code",
   "execution_count": 1,
   "metadata": {},
   "outputs": [],
   "source": [
    "import numpy as np \n",
    "import pandas as pd\n",
    "import matplotlib.pyplot as plt \n",
    "%matplotlib inline \n",
    "from plotly.offline import download_plotlyjs, init_notebook_mode, plot, iplot\n",
    "import plotly.express as px\n",
    "import plotly.graph_objects as go \n",
    "import plotly.figure_factory as ff \n",
    "from plotly.colors import n_colors \n",
    "from plotly.subplots import make_subplots  \n",
    "import seaborn as sns\n"
   ]
  },
  {
   "cell_type": "code",
   "execution_count": 2,
   "metadata": {},
   "outputs": [],
   "source": [
    "property_crime = pd.read_csv(\"D:/__studymaterial__/7-sem/Capston Project/Crimes_India/crime_data_2001-11/10_Property_stolen_and_recovered.csv\")\n",
    "rape_crime = pd.read_csv(\"D:/__studymaterial__/7-sem/Capston Project/Crimes_India/crime_data_2001-11/20_Victims_of_rape.csv\")\n",
    "auto_crime = pd.read_csv(\"D:/__studymaterial__/7-sem/Capston Project/Crimes_India/crime_data_2001-11/30_Auto_theft.csv\")\n",
    "murder_crime = pd.read_csv(\"D:/__studymaterial__/7-sem/Capston Project/Crimes_India/crime_data_2001-11/32_Murder_victim_age_sex.csv\")\n",
    "kidnapp_crime = pd.read_csv(\"D:/__studymaterial__/7-sem/Capston Project/Crimes_India/crime_data_2001-11/39_Specific_purpose_of_kidnapping_and_abduction.csv\")\n",
    "\n",
    "# D:/__studymaterial__/7-sem/Capston Project/Crimes_India/crime_data_2001-11"
   ]
  },
  {
   "cell_type": "markdown",
   "metadata": {},
   "source": [
    "#### Cleaning Murder/Kidnapp dataset"
   ]
  },
  {
   "cell_type": "code",
   "execution_count": 3,
   "metadata": {},
   "outputs": [],
   "source": [
    "# Cleaning Murder dataset\n",
    "murder_crime.drop('Sub_Group_Name',axis=1,inplace=True)\n",
    "murder_crime_total =  murder_crime[murder_crime['Group_Name'] == 'Murder - Total Victims']\n",
    "murder_crime_total.reset_index(inplace=True)\n",
    "murder_crime_total.drop('index',axis=1,inplace=True)"
   ]
  },
  {
   "cell_type": "code",
   "execution_count": 4,
   "metadata": {},
   "outputs": [],
   "source": [
    "# Cleaning Kidnap dataset\n",
    "kidnapp_crime.drop('Sub_Group_Name',axis=1,inplace=True)\n",
    "kidnapp_crime = kidnapp_crime[kidnapp_crime['Group_Name'] == 'Kidnap - Total']"
   ]
  },
  {
   "cell_type": "code",
   "execution_count": 5,
   "metadata": {},
   "outputs": [],
   "source": [
    "new_prop = property_crime[['Area_Name','Year','Cases_Property_Stolen']]\n",
    "new_rape = rape_crime[['Area_Name', 'Year','Victims_of_Rape_Total']]\n",
    "new_auto=auto_crime[['Area_Name','Year','Auto_Theft_Stolen']]\n",
    "new_murder=murder_crime_total[['Area_Name','Year','Victims_Total']]\n",
    "new_kidnap = kidnapp_crime[['Area_Name','Year','K_A_Grand_Total']]\n",
    "new_kidnap.rename(columns={'K_A_Grand_Total':'Total_Kidnapp'},inplace=True)\n",
    "new_kidnap['Total_Kidnapp']=new_kidnap['Total_Kidnapp'].astype(int)\n"
   ]
  },
  {
   "cell_type": "code",
   "execution_count": 6,
   "metadata": {},
   "outputs": [],
   "source": [
    "new_prop=new_prop.groupby(['Area_Name','Year'])['Cases_Property_Stolen'].sum().reset_index()\n",
    "new_rape=new_rape.groupby(['Area_Name','Year'])['Victims_of_Rape_Total'].sum().reset_index()\n",
    "new_auto=new_auto.groupby(['Area_Name','Year'])['Auto_Theft_Stolen'].sum().reset_index()\n",
    "new_murder=new_murder.groupby(['Area_Name','Year'])['Victims_Total'].sum().reset_index()\n",
    "new_murder.rename(columns={'Victims_Total':'Total_Murders'},inplace=True)\n",
    "new_kidnap=new_kidnap.groupby(['Area_Name','Year'])['Total_Kidnapp'].sum().reset_index()\n"
   ]
  },
  {
   "cell_type": "markdown",
   "metadata": {},
   "source": [
    "# Concat_data_Statewise_Total(2001-11)"
   ]
  },
  {
   "cell_type": "code",
   "execution_count": 7,
   "metadata": {},
   "outputs": [],
   "source": [
    "new_prop2=new_prop.groupby(['Area_Name'])['Cases_Property_Stolen'].sum()\n",
    "new_rape2=new_rape.groupby(['Area_Name'])['Victims_of_Rape_Total'].sum()\n",
    "new_auto2=new_auto.groupby(['Area_Name'])['Auto_Theft_Stolen'].sum()\n",
    "new_murder2=new_murder.groupby(['Area_Name'])['Total_Murders'].sum()\n",
    "new_kidnap2=new_kidnap.groupby(['Area_Name'])['Total_Kidnapp'].sum()\n",
    "\n",
    "dfs = [new_prop2,new_rape2,new_auto2,new_murder2, new_kidnap2]\n",
    "new_concat = pd.concat(dfs, axis=1,sort=False,join='inner')\n",
    "new_concat.reset_index(inplace=True)"
   ]
  },
  {
   "cell_type": "code",
   "execution_count": 8,
   "metadata": {},
   "outputs": [
    {
     "output_type": "execute_result",
     "data": {
      "text/plain": [
       "                   Area_Name  Cases_Property_Stolen  Victims_of_Rape_Total  \\\n",
       "0  Andaman & Nicobar Islands                   3662                    168   \n",
       "1             Andhra Pradesh                 642822                  21392   \n",
       "2          Arunachal Pradesh                  16632                    824   \n",
       "3                      Assam                 245560                  25524   \n",
       "4                      Bihar                 411840                  22526   \n",
       "\n",
       "   Auto_Theft_Stolen  Total_Murders  Total_Kidnapp  \n",
       "0                166            137             76  \n",
       "1             113618          27481          17287  \n",
       "2               1658            703            682  \n",
       "3              22236          12761          20363  \n",
       "4              45754          34675          28180  "
      ],
      "text/html": "<div>\n<style scoped>\n    .dataframe tbody tr th:only-of-type {\n        vertical-align: middle;\n    }\n\n    .dataframe tbody tr th {\n        vertical-align: top;\n    }\n\n    .dataframe thead th {\n        text-align: right;\n    }\n</style>\n<table border=\"1\" class=\"dataframe\">\n  <thead>\n    <tr style=\"text-align: right;\">\n      <th></th>\n      <th>Area_Name</th>\n      <th>Cases_Property_Stolen</th>\n      <th>Victims_of_Rape_Total</th>\n      <th>Auto_Theft_Stolen</th>\n      <th>Total_Murders</th>\n      <th>Total_Kidnapp</th>\n    </tr>\n  </thead>\n  <tbody>\n    <tr>\n      <th>0</th>\n      <td>Andaman &amp; Nicobar Islands</td>\n      <td>3662</td>\n      <td>168</td>\n      <td>166</td>\n      <td>137</td>\n      <td>76</td>\n    </tr>\n    <tr>\n      <th>1</th>\n      <td>Andhra Pradesh</td>\n      <td>642822</td>\n      <td>21392</td>\n      <td>113618</td>\n      <td>27481</td>\n      <td>17287</td>\n    </tr>\n    <tr>\n      <th>2</th>\n      <td>Arunachal Pradesh</td>\n      <td>16632</td>\n      <td>824</td>\n      <td>1658</td>\n      <td>703</td>\n      <td>682</td>\n    </tr>\n    <tr>\n      <th>3</th>\n      <td>Assam</td>\n      <td>245560</td>\n      <td>25524</td>\n      <td>22236</td>\n      <td>12761</td>\n      <td>20363</td>\n    </tr>\n    <tr>\n      <th>4</th>\n      <td>Bihar</td>\n      <td>411840</td>\n      <td>22526</td>\n      <td>45754</td>\n      <td>34675</td>\n      <td>28180</td>\n    </tr>\n  </tbody>\n</table>\n</div>"
     },
     "metadata": {},
     "execution_count": 8
    }
   ],
   "source": [
    "new_concat.head()"
   ]
  },
  {
   "cell_type": "code",
   "execution_count": 9,
   "metadata": {},
   "outputs": [],
   "source": [
    "# # Saving as csv\n",
    "# new_concat.to_csv(r'D:\\__studymaterial__\\7-sem\\Capston Project\\Crimes_India\\Data_Visualizing_Exploring\\Graph_visual_data.csv',index=False)"
   ]
  },
  {
   "cell_type": "markdown",
   "metadata": {},
   "source": [
    "# Concat_data_Statewise_Yearly_2001-10"
   ]
  },
  {
   "cell_type": "code",
   "execution_count": 10,
   "metadata": {},
   "outputs": [],
   "source": [
    "new_prop3=new_prop.groupby(['Area_Name','Year'])['Cases_Property_Stolen'].sum()\n",
    "new_rape3=new_rape.groupby(['Area_Name','Year'])['Victims_of_Rape_Total'].sum()\n",
    "new_auto3=new_auto.groupby(['Area_Name','Year'])['Auto_Theft_Stolen'].sum()\n",
    "new_murder3=new_murder.groupby(['Area_Name','Year'])['Total_Murders'].sum()\n",
    "new_kidnap3=new_kidnap.groupby(['Area_Name','Year'])['Total_Kidnapp'].sum()\n",
    "\n",
    "dfs = [new_prop3,new_rape3,new_auto3,new_murder3]\n",
    "new_concat_yearly = pd.concat(dfs, axis=1,sort=False,join='inner')\n",
    "new_concat_yearly.reset_index(inplace=True)\n",
    "new_concat_yearly.sort_values(['Area_Name','Year'],inplace=True)"
   ]
  },
  {
   "cell_type": "code",
   "execution_count": 11,
   "metadata": {},
   "outputs": [
    {
     "output_type": "execute_result",
     "data": {
      "text/plain": [
       "       Area_Name  Year  Cases_Property_Stolen  Victims_of_Rape_Total  \\\n",
       "92   West Bengal  2006                  31442                   3462   \n",
       "58   West Bengal  2007                  34554                   4212   \n",
       "268  West Bengal  2008                  43618                   4526   \n",
       "236  West Bengal  2009                  43172                   4672   \n",
       "108  West Bengal  2010                  47518                   4622   \n",
       "\n",
       "     Auto_Theft_Stolen  Total_Murders  \n",
       "92                5428           1442  \n",
       "58                4848           1653  \n",
       "268               5134           1811  \n",
       "236               7236           2161  \n",
       "108               8610           2415  "
      ],
      "text/html": "<div>\n<style scoped>\n    .dataframe tbody tr th:only-of-type {\n        vertical-align: middle;\n    }\n\n    .dataframe tbody tr th {\n        vertical-align: top;\n    }\n\n    .dataframe thead th {\n        text-align: right;\n    }\n</style>\n<table border=\"1\" class=\"dataframe\">\n  <thead>\n    <tr style=\"text-align: right;\">\n      <th></th>\n      <th>Area_Name</th>\n      <th>Year</th>\n      <th>Cases_Property_Stolen</th>\n      <th>Victims_of_Rape_Total</th>\n      <th>Auto_Theft_Stolen</th>\n      <th>Total_Murders</th>\n    </tr>\n  </thead>\n  <tbody>\n    <tr>\n      <th>92</th>\n      <td>West Bengal</td>\n      <td>2006</td>\n      <td>31442</td>\n      <td>3462</td>\n      <td>5428</td>\n      <td>1442</td>\n    </tr>\n    <tr>\n      <th>58</th>\n      <td>West Bengal</td>\n      <td>2007</td>\n      <td>34554</td>\n      <td>4212</td>\n      <td>4848</td>\n      <td>1653</td>\n    </tr>\n    <tr>\n      <th>268</th>\n      <td>West Bengal</td>\n      <td>2008</td>\n      <td>43618</td>\n      <td>4526</td>\n      <td>5134</td>\n      <td>1811</td>\n    </tr>\n    <tr>\n      <th>236</th>\n      <td>West Bengal</td>\n      <td>2009</td>\n      <td>43172</td>\n      <td>4672</td>\n      <td>7236</td>\n      <td>2161</td>\n    </tr>\n    <tr>\n      <th>108</th>\n      <td>West Bengal</td>\n      <td>2010</td>\n      <td>47518</td>\n      <td>4622</td>\n      <td>8610</td>\n      <td>2415</td>\n    </tr>\n  </tbody>\n</table>\n</div>"
     },
     "metadata": {},
     "execution_count": 11
    }
   ],
   "source": [
    "new_concat_yearly.tail()"
   ]
  },
  {
   "cell_type": "code",
   "execution_count": 12,
   "metadata": {},
   "outputs": [],
   "source": [
    "# new_merged = pd.merge(new_prop,new_auto,on=['Area_Name','Year'])\n",
    "# new_merged.head(11)"
   ]
  },
  {
   "cell_type": "markdown",
   "metadata": {},
   "source": [
    "# Saving file as csv"
   ]
  },
  {
   "cell_type": "code",
   "execution_count": 13,
   "metadata": {},
   "outputs": [],
   "source": [
    "# new_merged.to_csv(r'D:\\__studymaterial__\\7-sem\\Capston Project\\Crimes_India\\Data_Visualizing_Exploring\\new_data.csv',index=False)"
   ]
  },
  {
   "cell_type": "markdown",
   "metadata": {},
   "source": [
    "# Final_Dataset and Its Evaluation."
   ]
  },
  {
   "cell_type": "code",
   "execution_count": 14,
   "metadata": {},
   "outputs": [
    {
     "output_type": "execute_result",
     "data": {
      "text/plain": [
       "         STATE/UT  Year  Murder  Assault on women  Kidnapping and Abduction  \\\n",
       "0  ANDHRA PRADESH  2001      45                69                        22   \n",
       "1  ANDHRA PRADESH  2002      60                98                        18   \n",
       "2  ANDHRA PRADESH  2003      33                79                        27   \n",
       "3  ANDHRA PRADESH  2004      39                66                        28   \n",
       "4  ANDHRA PRADESH  2005      37                74                        21   \n",
       "\n",
       "   Dacoity  Robbery  Arson  Hurt  Prevention of atrocities (POA) Act  \\\n",
       "0        3        2      6   518                                 950   \n",
       "1        0        4     12   568                                 830   \n",
       "2        1       15      4   615                                1234   \n",
       "3        0        7     20   474                                1319   \n",
       "4        0        0      9   459                                1244   \n",
       "\n",
       "   Protection of Civil Rights (PCR) Act  Other Crimes Against SCs  \n",
       "0                                   312                      1006  \n",
       "1                                   459                      1336  \n",
       "2                                   165                      1386  \n",
       "3                                    68                      1234  \n",
       "4                                    61                      1212  "
      ],
      "text/html": "<div>\n<style scoped>\n    .dataframe tbody tr th:only-of-type {\n        vertical-align: middle;\n    }\n\n    .dataframe tbody tr th {\n        vertical-align: top;\n    }\n\n    .dataframe thead th {\n        text-align: right;\n    }\n</style>\n<table border=\"1\" class=\"dataframe\">\n  <thead>\n    <tr style=\"text-align: right;\">\n      <th></th>\n      <th>STATE/UT</th>\n      <th>Year</th>\n      <th>Murder</th>\n      <th>Assault on women</th>\n      <th>Kidnapping and Abduction</th>\n      <th>Dacoity</th>\n      <th>Robbery</th>\n      <th>Arson</th>\n      <th>Hurt</th>\n      <th>Prevention of atrocities (POA) Act</th>\n      <th>Protection of Civil Rights (PCR) Act</th>\n      <th>Other Crimes Against SCs</th>\n    </tr>\n  </thead>\n  <tbody>\n    <tr>\n      <th>0</th>\n      <td>ANDHRA PRADESH</td>\n      <td>2001</td>\n      <td>45</td>\n      <td>69</td>\n      <td>22</td>\n      <td>3</td>\n      <td>2</td>\n      <td>6</td>\n      <td>518</td>\n      <td>950</td>\n      <td>312</td>\n      <td>1006</td>\n    </tr>\n    <tr>\n      <th>1</th>\n      <td>ANDHRA PRADESH</td>\n      <td>2002</td>\n      <td>60</td>\n      <td>98</td>\n      <td>18</td>\n      <td>0</td>\n      <td>4</td>\n      <td>12</td>\n      <td>568</td>\n      <td>830</td>\n      <td>459</td>\n      <td>1336</td>\n    </tr>\n    <tr>\n      <th>2</th>\n      <td>ANDHRA PRADESH</td>\n      <td>2003</td>\n      <td>33</td>\n      <td>79</td>\n      <td>27</td>\n      <td>1</td>\n      <td>15</td>\n      <td>4</td>\n      <td>615</td>\n      <td>1234</td>\n      <td>165</td>\n      <td>1386</td>\n    </tr>\n    <tr>\n      <th>3</th>\n      <td>ANDHRA PRADESH</td>\n      <td>2004</td>\n      <td>39</td>\n      <td>66</td>\n      <td>28</td>\n      <td>0</td>\n      <td>7</td>\n      <td>20</td>\n      <td>474</td>\n      <td>1319</td>\n      <td>68</td>\n      <td>1234</td>\n    </tr>\n    <tr>\n      <th>4</th>\n      <td>ANDHRA PRADESH</td>\n      <td>2005</td>\n      <td>37</td>\n      <td>74</td>\n      <td>21</td>\n      <td>0</td>\n      <td>0</td>\n      <td>9</td>\n      <td>459</td>\n      <td>1244</td>\n      <td>61</td>\n      <td>1212</td>\n    </tr>\n  </tbody>\n</table>\n</div>"
     },
     "metadata": {},
     "execution_count": 14
    }
   ],
   "source": [
    "crime_state_wise = pd.read_csv('D:/__studymaterial__/7-sem/Capston Project/Crimes_India/Data_Visualizing_Exploring/data/crime_by_state_rt.csv')\n",
    "crime_state_wise.head()\n",
    "\n",
    "# D:\\__studymaterial__\\7-sem\\Capston Project\\Crimes_India\\Data_Visualizing_Exploring\\data"
   ]
  },
  {
   "cell_type": "code",
   "execution_count": 15,
   "metadata": {},
   "outputs": [],
   "source": [
    "states_group = crime_state_wise.groupby(['STATE/UT'])['Murder', 'Assault on women',\n",
    "       'Kidnapping and Abduction', 'Dacoity', 'Robbery', 'Arson', 'Hurt',\n",
    "       'Prevention of atrocities (POA) Act',\n",
    "       'Protection of Civil Rights (PCR) Act', 'Other Crimes Against SCs'].sum().reset_index()"
   ]
  },
  {
   "cell_type": "code",
   "execution_count": 16,
   "metadata": {},
   "outputs": [
    {
     "output_type": "execute_result",
     "data": {
      "text/plain": [
       "         STATE/UT  Murder  Assault on women  Kidnapping and Abduction  \\\n",
       "0   A & N ISLANDS       0                 0                         0   \n",
       "1  ANDHRA PRADESH     556              1110                       238   \n",
       "\n",
       "   Dacoity  Robbery  Arson  Hurt  Prevention of atrocities (POA) Act  \\\n",
       "0        0        0      0     0                                   0   \n",
       "1        9       39    136  7248                               15160   \n",
       "\n",
       "   Protection of Civil Rights (PCR) Act  Other Crimes Against SCs  \n",
       "0                                     0                         0  \n",
       "1                                  1511                     17412  "
      ],
      "text/html": "<div>\n<style scoped>\n    .dataframe tbody tr th:only-of-type {\n        vertical-align: middle;\n    }\n\n    .dataframe tbody tr th {\n        vertical-align: top;\n    }\n\n    .dataframe thead th {\n        text-align: right;\n    }\n</style>\n<table border=\"1\" class=\"dataframe\">\n  <thead>\n    <tr style=\"text-align: right;\">\n      <th></th>\n      <th>STATE/UT</th>\n      <th>Murder</th>\n      <th>Assault on women</th>\n      <th>Kidnapping and Abduction</th>\n      <th>Dacoity</th>\n      <th>Robbery</th>\n      <th>Arson</th>\n      <th>Hurt</th>\n      <th>Prevention of atrocities (POA) Act</th>\n      <th>Protection of Civil Rights (PCR) Act</th>\n      <th>Other Crimes Against SCs</th>\n    </tr>\n  </thead>\n  <tbody>\n    <tr>\n      <th>0</th>\n      <td>A &amp; N ISLANDS</td>\n      <td>0</td>\n      <td>0</td>\n      <td>0</td>\n      <td>0</td>\n      <td>0</td>\n      <td>0</td>\n      <td>0</td>\n      <td>0</td>\n      <td>0</td>\n      <td>0</td>\n    </tr>\n    <tr>\n      <th>1</th>\n      <td>ANDHRA PRADESH</td>\n      <td>556</td>\n      <td>1110</td>\n      <td>238</td>\n      <td>9</td>\n      <td>39</td>\n      <td>136</td>\n      <td>7248</td>\n      <td>15160</td>\n      <td>1511</td>\n      <td>17412</td>\n    </tr>\n  </tbody>\n</table>\n</div>"
     },
     "metadata": {},
     "execution_count": 16
    }
   ],
   "source": [
    "states_group.head(2)"
   ]
  },
  {
   "cell_type": "code",
   "execution_count": 17,
   "metadata": {},
   "outputs": [],
   "source": [
    "population = pd.read_csv('D:/__studymaterial__/7-sem/Capston Project/Crimes_India/crime_data_2001-11/Population_state_2001&11.csv')\n"
   ]
  },
  {
   "cell_type": "code",
   "execution_count": 18,
   "metadata": {},
   "outputs": [
    {
     "output_type": "execute_result",
     "data": {
      "text/plain": [
       "                          State   Population Increase Area(Km2) Density  \\\n",
       "31  Andaman and Nicobar Islands      380,581    6.86%     8,249      46   \n",
       "4                Andhra Pradesh   84,580,777   10.98%   275,045     308   \n",
       "26            Arunachal Pradesh    1,383,727   26.03%    83,743      17   \n",
       "13                        Assam   31,205,576   17.07%    78,438     398   \n",
       "2                         Bihar  104,099,452   25.42%    94,163   1,106   \n",
       "\n",
       "    Sex-Ratio  Literacy  \n",
       "31        876     86.63  \n",
       "4         993     67.02  \n",
       "26        938     65.38  \n",
       "13        958     72.19  \n",
       "2         918     61.80  "
      ],
      "text/html": "<div>\n<style scoped>\n    .dataframe tbody tr th:only-of-type {\n        vertical-align: middle;\n    }\n\n    .dataframe tbody tr th {\n        vertical-align: top;\n    }\n\n    .dataframe thead th {\n        text-align: right;\n    }\n</style>\n<table border=\"1\" class=\"dataframe\">\n  <thead>\n    <tr style=\"text-align: right;\">\n      <th></th>\n      <th>State</th>\n      <th>Population</th>\n      <th>Increase</th>\n      <th>Area(Km2)</th>\n      <th>Density</th>\n      <th>Sex-Ratio</th>\n      <th>Literacy</th>\n    </tr>\n  </thead>\n  <tbody>\n    <tr>\n      <th>31</th>\n      <td>Andaman and Nicobar Islands</td>\n      <td>380,581</td>\n      <td>6.86%</td>\n      <td>8,249</td>\n      <td>46</td>\n      <td>876</td>\n      <td>86.63</td>\n    </tr>\n    <tr>\n      <th>4</th>\n      <td>Andhra Pradesh</td>\n      <td>84,580,777</td>\n      <td>10.98%</td>\n      <td>275,045</td>\n      <td>308</td>\n      <td>993</td>\n      <td>67.02</td>\n    </tr>\n    <tr>\n      <th>26</th>\n      <td>Arunachal Pradesh</td>\n      <td>1,383,727</td>\n      <td>26.03%</td>\n      <td>83,743</td>\n      <td>17</td>\n      <td>938</td>\n      <td>65.38</td>\n    </tr>\n    <tr>\n      <th>13</th>\n      <td>Assam</td>\n      <td>31,205,576</td>\n      <td>17.07%</td>\n      <td>78,438</td>\n      <td>398</td>\n      <td>958</td>\n      <td>72.19</td>\n    </tr>\n    <tr>\n      <th>2</th>\n      <td>Bihar</td>\n      <td>104,099,452</td>\n      <td>25.42%</td>\n      <td>94,163</td>\n      <td>1,106</td>\n      <td>918</td>\n      <td>61.80</td>\n    </tr>\n  </tbody>\n</table>\n</div>"
     },
     "metadata": {},
     "execution_count": 18
    }
   ],
   "source": [
    "population.sort_values(by=['State'],ascending=True,inplace=True)\n",
    "population.head()"
   ]
  },
  {
   "cell_type": "code",
   "execution_count": 19,
   "metadata": {},
   "outputs": [
    {
     "output_type": "execute_result",
     "data": {
      "text/plain": [
       "            STATE/UT  Murder  Assault on women  Kidnapping and Abduction  \\\n",
       "0      A & N ISLANDS       0                 0                         0   \n",
       "1     ANDHRA PRADESH     556              1110                       238   \n",
       "2  ARUNACHAL PRADESH       1                 0                         0   \n",
       "3              ASSAM      57                57                        96   \n",
       "4              BIHAR     286               284                       127   \n",
       "\n",
       "   Dacoity  Robbery  Arson  Hurt  Prevention of atrocities (POA) Act  \\\n",
       "0        0        0      0     0                                   0   \n",
       "1        9       39    136  7248                               15160   \n",
       "2        0        1      0     0                                   0   \n",
       "3       14       33     25   341                                   3   \n",
       "4       29       77    309  4524                               23425   \n",
       "\n",
       "   Protection of Civil Rights (PCR) Act  Other Crimes Against SCs   Population  \n",
       "0                                     0                         0  199,812,341  \n",
       "1                                  1511                     17412  112,374,333  \n",
       "2                                     0                         0  104,099,452  \n",
       "3                                     1                       318   91,276,115  \n",
       "4                                   466                      3814   84,580,777  "
      ],
      "text/html": "<div>\n<style scoped>\n    .dataframe tbody tr th:only-of-type {\n        vertical-align: middle;\n    }\n\n    .dataframe tbody tr th {\n        vertical-align: top;\n    }\n\n    .dataframe thead th {\n        text-align: right;\n    }\n</style>\n<table border=\"1\" class=\"dataframe\">\n  <thead>\n    <tr style=\"text-align: right;\">\n      <th></th>\n      <th>STATE/UT</th>\n      <th>Murder</th>\n      <th>Assault on women</th>\n      <th>Kidnapping and Abduction</th>\n      <th>Dacoity</th>\n      <th>Robbery</th>\n      <th>Arson</th>\n      <th>Hurt</th>\n      <th>Prevention of atrocities (POA) Act</th>\n      <th>Protection of Civil Rights (PCR) Act</th>\n      <th>Other Crimes Against SCs</th>\n      <th>Population</th>\n    </tr>\n  </thead>\n  <tbody>\n    <tr>\n      <th>0</th>\n      <td>A &amp; N ISLANDS</td>\n      <td>0</td>\n      <td>0</td>\n      <td>0</td>\n      <td>0</td>\n      <td>0</td>\n      <td>0</td>\n      <td>0</td>\n      <td>0</td>\n      <td>0</td>\n      <td>0</td>\n      <td>199,812,341</td>\n    </tr>\n    <tr>\n      <th>1</th>\n      <td>ANDHRA PRADESH</td>\n      <td>556</td>\n      <td>1110</td>\n      <td>238</td>\n      <td>9</td>\n      <td>39</td>\n      <td>136</td>\n      <td>7248</td>\n      <td>15160</td>\n      <td>1511</td>\n      <td>17412</td>\n      <td>112,374,333</td>\n    </tr>\n    <tr>\n      <th>2</th>\n      <td>ARUNACHAL PRADESH</td>\n      <td>1</td>\n      <td>0</td>\n      <td>0</td>\n      <td>0</td>\n      <td>1</td>\n      <td>0</td>\n      <td>0</td>\n      <td>0</td>\n      <td>0</td>\n      <td>0</td>\n      <td>104,099,452</td>\n    </tr>\n    <tr>\n      <th>3</th>\n      <td>ASSAM</td>\n      <td>57</td>\n      <td>57</td>\n      <td>96</td>\n      <td>14</td>\n      <td>33</td>\n      <td>25</td>\n      <td>341</td>\n      <td>3</td>\n      <td>1</td>\n      <td>318</td>\n      <td>91,276,115</td>\n    </tr>\n    <tr>\n      <th>4</th>\n      <td>BIHAR</td>\n      <td>286</td>\n      <td>284</td>\n      <td>127</td>\n      <td>29</td>\n      <td>77</td>\n      <td>309</td>\n      <td>4524</td>\n      <td>23425</td>\n      <td>466</td>\n      <td>3814</td>\n      <td>84,580,777</td>\n    </tr>\n  </tbody>\n</table>\n</div>"
     },
     "metadata": {},
     "execution_count": 19
    }
   ],
   "source": [
    "states_group['Population'] = population['Population']\n",
    "states_group.head()"
   ]
  },
  {
   "cell_type": "markdown",
   "metadata": {},
   "source": []
  },
  {
   "cell_type": "code",
   "execution_count": 20,
   "metadata": {},
   "outputs": [],
   "source": [
    "## Total Murders State_Wise\n",
    "# plt.figure(figsize=(8,5))\n",
    "# # sns.barplot(x='STATE/UT',y='Murder',data=states_group,hue='Murder')\n",
    "# p = px.bar(states_group,x='STATE/UT',y='Murder')\n",
    "# p.show()"
   ]
  },
  {
   "cell_type": "markdown",
   "metadata": {},
   "source": [
    "# Year_Wise Crimes"
   ]
  },
  {
   "cell_type": "code",
   "execution_count": 21,
   "metadata": {},
   "outputs": [],
   "source": [
    "# fig, axes = plt.subplots(3, 3, figsize=(15, 10), sharex=True)\n",
    "# fig.suptitle('Crimes')\n",
    "\n",
    "# sns.barplot(ax=axes[0][0], x=crime_state_wise['Year'], y=crime_state_wise['Murder'])\n",
    "# sns.barplot(ax=axes[0][1], x=crime_state_wise['Year'], y=crime_state_wise['Assault on women'])\n",
    "# sns.barplot(ax=axes[0][2], x=crime_state_wise['Year'], y=crime_state_wise['Kidnapping and Abduction'])\n",
    "# sns.barplot(ax=axes[1][0], x=crime_state_wise['Year'], y=crime_state_wise['Dacoity'])\n",
    "# sns.barplot(ax=axes[1][1], x=crime_state_wise['Year'], y=crime_state_wise['Robbery'])\n",
    "# sns.barplot(ax=axes[1][2], x=crime_state_wise['Year'], y=crime_state_wise['Arson'])\n",
    "# sns.barplot(ax=axes[2][0], x=crime_state_wise['Year'], y=crime_state_wise['Hurt'])\n",
    "# sns.barplot(ax=axes[2][1], x=crime_state_wise['Year'], y=crime_state_wise['Prevention of atrocities (POA) Act'])\n",
    "# sns.barplot(ax=axes[2][2], x=crime_state_wise['Year'], y=crime_state_wise['Other Crimes Against SCs'])\n",
    "\n",
    "# # axes[0].set_title()\n",
    "# for ax in fig.axes:\n",
    "#     plt.sca(ax)\n",
    "#     plt.xticks(rotation=45)"
   ]
  },
  {
   "cell_type": "markdown",
   "metadata": {},
   "source": [
    "# State_wise Crimes-(2001-2011)"
   ]
  },
  {
   "cell_type": "markdown",
   "metadata": {},
   "source": [
    "> Graph Representatins *** Murders in india ***"
   ]
  },
  {
   "cell_type": "code",
   "execution_count": 22,
   "metadata": {},
   "outputs": [],
   "source": [
    "# import pandas as pd\n",
    "# import plotly.express as px\n",
    "\n",
    "# df = pd.read_csv(\"D:/__studymaterial__/7-sem/Capston Project/Crimes_India/Data_Visualizing_Exploring/data/Graph_visual_data.csv\")\n",
    "# fig = px.choropleth(\n",
    "#     df,\n",
    "#     geojson=\"https://gist.githubusercontent.com/jbrobst/56c13bbbf9d97d187fea01ca62ea5112/raw/e388c4cae20aa53cb5090210a42ebb9b765c0a36/india_states.geojson\",\n",
    "#     featureidkey='properties.ST_NM',\n",
    "#     locations='Area_Name',\n",
    "#     color='Total_Murders',\n",
    "#     color_continuous_scale='Reds',\n",
    "#     title='Total Murders'\n",
    "\n",
    "# )\n",
    "\n",
    "# fig.update_geos(fitbounds=\"locations\", visible=False)\n",
    "\n",
    "# fig.show()"
   ]
  },
  {
   "cell_type": "code",
   "execution_count": 26,
   "metadata": {},
   "outputs": [
    {
     "output_type": "execute_result",
     "data": {
      "text/plain": [
       "                   Area_Name  Cases_Property_Stolen  Victims_of_Rape_Total  \\\n",
       "0  Andaman & Nicobar Islands                   3662                    168   \n",
       "1             Andhra Pradesh                 642822                  21392   \n",
       "2          Arunachal Pradesh                  16632                    824   \n",
       "3                      Assam                 245560                  25524   \n",
       "4                      Bihar                 411840                  22526   \n",
       "\n",
       "   Auto_Theft_Stolen  Total_Murders  Total_Kidnapp  \n",
       "0                166            137             76  \n",
       "1             113618          27481          17287  \n",
       "2               1658            703            682  \n",
       "3              22236          12761          20363  \n",
       "4              45754          34675          28180  "
      ],
      "text/html": "<div>\n<style scoped>\n    .dataframe tbody tr th:only-of-type {\n        vertical-align: middle;\n    }\n\n    .dataframe tbody tr th {\n        vertical-align: top;\n    }\n\n    .dataframe thead th {\n        text-align: right;\n    }\n</style>\n<table border=\"1\" class=\"dataframe\">\n  <thead>\n    <tr style=\"text-align: right;\">\n      <th></th>\n      <th>Area_Name</th>\n      <th>Cases_Property_Stolen</th>\n      <th>Victims_of_Rape_Total</th>\n      <th>Auto_Theft_Stolen</th>\n      <th>Total_Murders</th>\n      <th>Total_Kidnapp</th>\n    </tr>\n  </thead>\n  <tbody>\n    <tr>\n      <th>0</th>\n      <td>Andaman &amp; Nicobar Islands</td>\n      <td>3662</td>\n      <td>168</td>\n      <td>166</td>\n      <td>137</td>\n      <td>76</td>\n    </tr>\n    <tr>\n      <th>1</th>\n      <td>Andhra Pradesh</td>\n      <td>642822</td>\n      <td>21392</td>\n      <td>113618</td>\n      <td>27481</td>\n      <td>17287</td>\n    </tr>\n    <tr>\n      <th>2</th>\n      <td>Arunachal Pradesh</td>\n      <td>16632</td>\n      <td>824</td>\n      <td>1658</td>\n      <td>703</td>\n      <td>682</td>\n    </tr>\n    <tr>\n      <th>3</th>\n      <td>Assam</td>\n      <td>245560</td>\n      <td>25524</td>\n      <td>22236</td>\n      <td>12761</td>\n      <td>20363</td>\n    </tr>\n    <tr>\n      <th>4</th>\n      <td>Bihar</td>\n      <td>411840</td>\n      <td>22526</td>\n      <td>45754</td>\n      <td>34675</td>\n      <td>28180</td>\n    </tr>\n  </tbody>\n</table>\n</div>"
     },
     "metadata": {},
     "execution_count": 26
    }
   ],
   "source": [
    "new_concat.head()"
   ]
  },
  {
   "cell_type": "code",
   "execution_count": null,
   "metadata": {},
   "outputs": [],
   "source": []
  },
  {
   "cell_type": "code",
   "execution_count": null,
   "metadata": {},
   "outputs": [],
   "source": []
  },
  {
   "cell_type": "code",
   "execution_count": null,
   "metadata": {},
   "outputs": [],
   "source": []
  },
  {
   "cell_type": "code",
   "execution_count": null,
   "metadata": {},
   "outputs": [],
   "source": []
  },
  {
   "cell_type": "code",
   "execution_count": null,
   "metadata": {},
   "outputs": [],
   "source": []
  },
  {
   "cell_type": "code",
   "execution_count": null,
   "metadata": {},
   "outputs": [],
   "source": []
  },
  {
   "cell_type": "code",
   "execution_count": null,
   "metadata": {},
   "outputs": [],
   "source": []
  },
  {
   "cell_type": "code",
   "execution_count": null,
   "metadata": {},
   "outputs": [],
   "source": []
  },
  {
   "cell_type": "code",
   "execution_count": 22,
   "metadata": {},
   "outputs": [
    {
     "data": {
      "application/vnd.plotly.v1+json": {
       "config": {
        "plotlyServerURL": "https://plot.ly"
       },
       "data": [
        {
         "coloraxis": "coloraxis",
         "featureidkey": "properties.ST_NM",
         "geo": "geo",
         "geojson": "https://gist.githubusercontent.com/jbrobst/56c13bbbf9d97d187fea01ca62ea5112/raw/e388c4cae20aa53cb5090210a42ebb9b765c0a36/india_states.geojson",
         "hovertemplate": "Area_Name=%{location}<br>Total_Murders=%{z}<extra></extra>",
         "locations": [
          "Andaman & Nicobar Islands",
          "Andhra Pradesh",
          "Arunachal Pradesh",
          "Assam",
          "Bihar",
          "Chandigarh",
          "Chhattisgarh",
          "Dadra & Nagar Haveli",
          "Daman & Diu",
          "Delhi",
          "Goa",
          "Gujarat",
          "Haryana",
          "Himachal Pradesh",
          "Jammu & Kashmir",
          "Jharkhand",
          "Karnataka",
          "Kerala",
          "Lakshadweep",
          "Madhya Pradesh",
          "Maharashtra",
          "Manipur",
          "Meghalaya",
          "Mizoram",
          "Nagaland",
          "Odisha",
          "Puducherry",
          "Punjab",
          "Rajasthan",
          "Sikkim",
          "Tamil Nadu",
          "Tripura",
          "Uttar Pradesh",
          "Uttarakhand",
          "West Bengal"
         ],
         "name": "",
         "type": "choropleth",
         "z": [
          137,
          27481,
          703,
          12761,
          34675,
          202,
          10787,
          87,
          53,
          5396,
          412,
          12757,
          8793,
          1269,
          7339,
          15682,
          16891,
          4208,
          4,
          23694,
          28693,
          2204,
          1485,
          358,
          956,
          11762,
          303,
          8172,
          13176,
          151,
          16876,
          1867,
          58810,
          2751,
          16959
         ]
        }
       ],
       "layout": {
        "coloraxis": {
         "colorbar": {
          "title": {
           "text": "Total_Murders"
          }
         },
         "colorscale": [
          [
           0,
           "rgb(255,245,240)"
          ],
          [
           0.125,
           "rgb(254,224,210)"
          ],
          [
           0.25,
           "rgb(252,187,161)"
          ],
          [
           0.375,
           "rgb(252,146,114)"
          ],
          [
           0.5,
           "rgb(251,106,74)"
          ],
          [
           0.625,
           "rgb(239,59,44)"
          ],
          [
           0.75,
           "rgb(203,24,29)"
          ],
          [
           0.875,
           "rgb(165,15,21)"
          ],
          [
           1,
           "rgb(103,0,13)"
          ]
         ]
        },
        "geo": {
         "center": {},
         "domain": {
          "x": [
           0,
           1
          ],
          "y": [
           0,
           1
          ]
         },
         "fitbounds": "locations",
         "visible": false
        },
        "height": 200,
        "legend": {
         "tracegroupgap": 0
        },
        "template": {
         "data": {
          "bar": [
           {
            "error_x": {
             "color": "#2a3f5f"
            },
            "error_y": {
             "color": "#2a3f5f"
            },
            "marker": {
             "line": {
              "color": "#E5ECF6",
              "width": 0.5
             }
            },
            "type": "bar"
           }
          ],
          "barpolar": [
           {
            "marker": {
             "line": {
              "color": "#E5ECF6",
              "width": 0.5
             }
            },
            "type": "barpolar"
           }
          ],
          "carpet": [
           {
            "aaxis": {
             "endlinecolor": "#2a3f5f",
             "gridcolor": "white",
             "linecolor": "white",
             "minorgridcolor": "white",
             "startlinecolor": "#2a3f5f"
            },
            "baxis": {
             "endlinecolor": "#2a3f5f",
             "gridcolor": "white",
             "linecolor": "white",
             "minorgridcolor": "white",
             "startlinecolor": "#2a3f5f"
            },
            "type": "carpet"
           }
          ],
          "choropleth": [
           {
            "colorbar": {
             "outlinewidth": 0,
             "ticks": ""
            },
            "type": "choropleth"
           }
          ],
          "contour": [
           {
            "colorbar": {
             "outlinewidth": 0,
             "ticks": ""
            },
            "colorscale": [
             [
              0,
              "#0d0887"
             ],
             [
              0.1111111111111111,
              "#46039f"
             ],
             [
              0.2222222222222222,
              "#7201a8"
             ],
             [
              0.3333333333333333,
              "#9c179e"
             ],
             [
              0.4444444444444444,
              "#bd3786"
             ],
             [
              0.5555555555555556,
              "#d8576b"
             ],
             [
              0.6666666666666666,
              "#ed7953"
             ],
             [
              0.7777777777777778,
              "#fb9f3a"
             ],
             [
              0.8888888888888888,
              "#fdca26"
             ],
             [
              1,
              "#f0f921"
             ]
            ],
            "type": "contour"
           }
          ],
          "contourcarpet": [
           {
            "colorbar": {
             "outlinewidth": 0,
             "ticks": ""
            },
            "type": "contourcarpet"
           }
          ],
          "heatmap": [
           {
            "colorbar": {
             "outlinewidth": 0,
             "ticks": ""
            },
            "colorscale": [
             [
              0,
              "#0d0887"
             ],
             [
              0.1111111111111111,
              "#46039f"
             ],
             [
              0.2222222222222222,
              "#7201a8"
             ],
             [
              0.3333333333333333,
              "#9c179e"
             ],
             [
              0.4444444444444444,
              "#bd3786"
             ],
             [
              0.5555555555555556,
              "#d8576b"
             ],
             [
              0.6666666666666666,
              "#ed7953"
             ],
             [
              0.7777777777777778,
              "#fb9f3a"
             ],
             [
              0.8888888888888888,
              "#fdca26"
             ],
             [
              1,
              "#f0f921"
             ]
            ],
            "type": "heatmap"
           }
          ],
          "heatmapgl": [
           {
            "colorbar": {
             "outlinewidth": 0,
             "ticks": ""
            },
            "colorscale": [
             [
              0,
              "#0d0887"
             ],
             [
              0.1111111111111111,
              "#46039f"
             ],
             [
              0.2222222222222222,
              "#7201a8"
             ],
             [
              0.3333333333333333,
              "#9c179e"
             ],
             [
              0.4444444444444444,
              "#bd3786"
             ],
             [
              0.5555555555555556,
              "#d8576b"
             ],
             [
              0.6666666666666666,
              "#ed7953"
             ],
             [
              0.7777777777777778,
              "#fb9f3a"
             ],
             [
              0.8888888888888888,
              "#fdca26"
             ],
             [
              1,
              "#f0f921"
             ]
            ],
            "type": "heatmapgl"
           }
          ],
          "histogram": [
           {
            "marker": {
             "colorbar": {
              "outlinewidth": 0,
              "ticks": ""
             }
            },
            "type": "histogram"
           }
          ],
          "histogram2d": [
           {
            "colorbar": {
             "outlinewidth": 0,
             "ticks": ""
            },
            "colorscale": [
             [
              0,
              "#0d0887"
             ],
             [
              0.1111111111111111,
              "#46039f"
             ],
             [
              0.2222222222222222,
              "#7201a8"
             ],
             [
              0.3333333333333333,
              "#9c179e"
             ],
             [
              0.4444444444444444,
              "#bd3786"
             ],
             [
              0.5555555555555556,
              "#d8576b"
             ],
             [
              0.6666666666666666,
              "#ed7953"
             ],
             [
              0.7777777777777778,
              "#fb9f3a"
             ],
             [
              0.8888888888888888,
              "#fdca26"
             ],
             [
              1,
              "#f0f921"
             ]
            ],
            "type": "histogram2d"
           }
          ],
          "histogram2dcontour": [
           {
            "colorbar": {
             "outlinewidth": 0,
             "ticks": ""
            },
            "colorscale": [
             [
              0,
              "#0d0887"
             ],
             [
              0.1111111111111111,
              "#46039f"
             ],
             [
              0.2222222222222222,
              "#7201a8"
             ],
             [
              0.3333333333333333,
              "#9c179e"
             ],
             [
              0.4444444444444444,
              "#bd3786"
             ],
             [
              0.5555555555555556,
              "#d8576b"
             ],
             [
              0.6666666666666666,
              "#ed7953"
             ],
             [
              0.7777777777777778,
              "#fb9f3a"
             ],
             [
              0.8888888888888888,
              "#fdca26"
             ],
             [
              1,
              "#f0f921"
             ]
            ],
            "type": "histogram2dcontour"
           }
          ],
          "mesh3d": [
           {
            "colorbar": {
             "outlinewidth": 0,
             "ticks": ""
            },
            "type": "mesh3d"
           }
          ],
          "parcoords": [
           {
            "line": {
             "colorbar": {
              "outlinewidth": 0,
              "ticks": ""
             }
            },
            "type": "parcoords"
           }
          ],
          "pie": [
           {
            "automargin": true,
            "type": "pie"
           }
          ],
          "scatter": [
           {
            "marker": {
             "colorbar": {
              "outlinewidth": 0,
              "ticks": ""
             }
            },
            "type": "scatter"
           }
          ],
          "scatter3d": [
           {
            "line": {
             "colorbar": {
              "outlinewidth": 0,
              "ticks": ""
             }
            },
            "marker": {
             "colorbar": {
              "outlinewidth": 0,
              "ticks": ""
             }
            },
            "type": "scatter3d"
           }
          ],
          "scattercarpet": [
           {
            "marker": {
             "colorbar": {
              "outlinewidth": 0,
              "ticks": ""
             }
            },
            "type": "scattercarpet"
           }
          ],
          "scattergeo": [
           {
            "marker": {
             "colorbar": {
              "outlinewidth": 0,
              "ticks": ""
             }
            },
            "type": "scattergeo"
           }
          ],
          "scattergl": [
           {
            "marker": {
             "colorbar": {
              "outlinewidth": 0,
              "ticks": ""
             }
            },
            "type": "scattergl"
           }
          ],
          "scattermapbox": [
           {
            "marker": {
             "colorbar": {
              "outlinewidth": 0,
              "ticks": ""
             }
            },
            "type": "scattermapbox"
           }
          ],
          "scatterpolar": [
           {
            "marker": {
             "colorbar": {
              "outlinewidth": 0,
              "ticks": ""
             }
            },
            "type": "scatterpolar"
           }
          ],
          "scatterpolargl": [
           {
            "marker": {
             "colorbar": {
              "outlinewidth": 0,
              "ticks": ""
             }
            },
            "type": "scatterpolargl"
           }
          ],
          "scatterternary": [
           {
            "marker": {
             "colorbar": {
              "outlinewidth": 0,
              "ticks": ""
             }
            },
            "type": "scatterternary"
           }
          ],
          "surface": [
           {
            "colorbar": {
             "outlinewidth": 0,
             "ticks": ""
            },
            "colorscale": [
             [
              0,
              "#0d0887"
             ],
             [
              0.1111111111111111,
              "#46039f"
             ],
             [
              0.2222222222222222,
              "#7201a8"
             ],
             [
              0.3333333333333333,
              "#9c179e"
             ],
             [
              0.4444444444444444,
              "#bd3786"
             ],
             [
              0.5555555555555556,
              "#d8576b"
             ],
             [
              0.6666666666666666,
              "#ed7953"
             ],
             [
              0.7777777777777778,
              "#fb9f3a"
             ],
             [
              0.8888888888888888,
              "#fdca26"
             ],
             [
              1,
              "#f0f921"
             ]
            ],
            "type": "surface"
           }
          ],
          "table": [
           {
            "cells": {
             "fill": {
              "color": "#EBF0F8"
             },
             "line": {
              "color": "white"
             }
            },
            "header": {
             "fill": {
              "color": "#C8D4E3"
             },
             "line": {
              "color": "white"
             }
            },
            "type": "table"
           }
          ]
         },
         "layout": {
          "annotationdefaults": {
           "arrowcolor": "#2a3f5f",
           "arrowhead": 0,
           "arrowwidth": 1
          },
          "coloraxis": {
           "colorbar": {
            "outlinewidth": 0,
            "ticks": ""
           }
          },
          "colorscale": {
           "diverging": [
            [
             0,
             "#8e0152"
            ],
            [
             0.1,
             "#c51b7d"
            ],
            [
             0.2,
             "#de77ae"
            ],
            [
             0.3,
             "#f1b6da"
            ],
            [
             0.4,
             "#fde0ef"
            ],
            [
             0.5,
             "#f7f7f7"
            ],
            [
             0.6,
             "#e6f5d0"
            ],
            [
             0.7,
             "#b8e186"
            ],
            [
             0.8,
             "#7fbc41"
            ],
            [
             0.9,
             "#4d9221"
            ],
            [
             1,
             "#276419"
            ]
           ],
           "sequential": [
            [
             0,
             "#0d0887"
            ],
            [
             0.1111111111111111,
             "#46039f"
            ],
            [
             0.2222222222222222,
             "#7201a8"
            ],
            [
             0.3333333333333333,
             "#9c179e"
            ],
            [
             0.4444444444444444,
             "#bd3786"
            ],
            [
             0.5555555555555556,
             "#d8576b"
            ],
            [
             0.6666666666666666,
             "#ed7953"
            ],
            [
             0.7777777777777778,
             "#fb9f3a"
            ],
            [
             0.8888888888888888,
             "#fdca26"
            ],
            [
             1,
             "#f0f921"
            ]
           ],
           "sequentialminus": [
            [
             0,
             "#0d0887"
            ],
            [
             0.1111111111111111,
             "#46039f"
            ],
            [
             0.2222222222222222,
             "#7201a8"
            ],
            [
             0.3333333333333333,
             "#9c179e"
            ],
            [
             0.4444444444444444,
             "#bd3786"
            ],
            [
             0.5555555555555556,
             "#d8576b"
            ],
            [
             0.6666666666666666,
             "#ed7953"
            ],
            [
             0.7777777777777778,
             "#fb9f3a"
            ],
            [
             0.8888888888888888,
             "#fdca26"
            ],
            [
             1,
             "#f0f921"
            ]
           ]
          },
          "colorway": [
           "#636efa",
           "#EF553B",
           "#00cc96",
           "#ab63fa",
           "#FFA15A",
           "#19d3f3",
           "#FF6692",
           "#B6E880",
           "#FF97FF",
           "#FECB52"
          ],
          "font": {
           "color": "#2a3f5f"
          },
          "geo": {
           "bgcolor": "white",
           "lakecolor": "white",
           "landcolor": "#E5ECF6",
           "showlakes": true,
           "showland": true,
           "subunitcolor": "white"
          },
          "hoverlabel": {
           "align": "left"
          },
          "hovermode": "closest",
          "mapbox": {
           "style": "light"
          },
          "paper_bgcolor": "white",
          "plot_bgcolor": "#E5ECF6",
          "polar": {
           "angularaxis": {
            "gridcolor": "white",
            "linecolor": "white",
            "ticks": ""
           },
           "bgcolor": "#E5ECF6",
           "radialaxis": {
            "gridcolor": "white",
            "linecolor": "white",
            "ticks": ""
           }
          },
          "scene": {
           "xaxis": {
            "backgroundcolor": "#E5ECF6",
            "gridcolor": "white",
            "gridwidth": 2,
            "linecolor": "white",
            "showbackground": true,
            "ticks": "",
            "zerolinecolor": "white"
           },
           "yaxis": {
            "backgroundcolor": "#E5ECF6",
            "gridcolor": "white",
            "gridwidth": 2,
            "linecolor": "white",
            "showbackground": true,
            "ticks": "",
            "zerolinecolor": "white"
           },
           "zaxis": {
            "backgroundcolor": "#E5ECF6",
            "gridcolor": "white",
            "gridwidth": 2,
            "linecolor": "white",
            "showbackground": true,
            "ticks": "",
            "zerolinecolor": "white"
           }
          },
          "shapedefaults": {
           "line": {
            "color": "#2a3f5f"
           }
          },
          "ternary": {
           "aaxis": {
            "gridcolor": "white",
            "linecolor": "white",
            "ticks": ""
           },
           "baxis": {
            "gridcolor": "white",
            "linecolor": "white",
            "ticks": ""
           },
           "bgcolor": "#E5ECF6",
           "caxis": {
            "gridcolor": "white",
            "linecolor": "white",
            "ticks": ""
           }
          },
          "title": {
           "x": 0.05
          },
          "xaxis": {
           "automargin": true,
           "gridcolor": "white",
           "linecolor": "white",
           "ticks": "",
           "title": {
            "standoff": 15
           },
           "zerolinecolor": "white",
           "zerolinewidth": 2
          },
          "yaxis": {
           "automargin": true,
           "gridcolor": "white",
           "linecolor": "white",
           "ticks": "",
           "title": {
            "standoff": 15
           },
           "zerolinecolor": "white",
           "zerolinewidth": 2
          }
         }
        },
        "title": {
         "text": "Total Murders"
        },
        "width": 800
       }
      }
     },
     "metadata": {},
     "output_type": "display_data"
    }
   ],
   "source": []
  }
 ],
 "metadata": {
  "kernelspec": {
   "name": "python3",
   "display_name": "Python 3",
   "language": "python"
  },
  "language_info": {
   "codemirror_mode": {
    "name": "ipython",
    "version": 3
   },
   "file_extension": ".py",
   "mimetype": "text/x-python",
   "name": "python",
   "nbconvert_exporter": "python",
   "pygments_lexer": "ipython3",
   "version": "3.8.3-final"
  }
 },
 "nbformat": 4,
 "nbformat_minor": 2
}