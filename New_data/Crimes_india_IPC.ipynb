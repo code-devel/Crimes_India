{
 "metadata": {
  "language_info": {
   "codemirror_mode": {
    "name": "ipython",
    "version": 3
   },
   "file_extension": ".py",
   "mimetype": "text/x-python",
   "name": "python",
   "nbconvert_exporter": "python",
   "pygments_lexer": "ipython3",
   "version": "3.8.3-final"
  },
  "orig_nbformat": 2,
  "kernelspec": {
   "name": "python3",
   "display_name": "Python 3.8.3 64-bit ('Anaconda_setup': conda)",
   "metadata": {
    "interpreter": {
     "hash": "60d6ae3535a4e6195853906f058dd7e5d5c126e71d6f2bb78fc611ab47063def"
    }
   }
  }
 },
 "nbformat": 4,
 "nbformat_minor": 2,
 "cells": [
  {
   "cell_type": "code",
   "execution_count": 1,
   "metadata": {},
   "outputs": [],
   "source": [
    "import numpy as np \n",
    "import pandas as pd\n",
    "import matplotlib.pyplot as plt \n",
    "%matplotlib inline \n",
    "from plotly.offline import download_plotlyjs, init_notebook_mode, plot, iplot\n",
    "import plotly.express as px\n",
    "import plotly.graph_objects as go \n",
    "import plotly.figure_factory as ff \n",
    "from plotly.colors import n_colors \n",
    "from plotly.subplots import make_subplots  \n",
    "import seaborn as sns\n",
    "sns.set()"
   ]
  },
  {
   "cell_type": "code",
   "execution_count": 5,
   "metadata": {},
   "outputs": [],
   "source": [
    "df = pd.read_excel('D:/__studymaterial__/7-sem/Capston Project/Crimes_India/New_data/All India IPC & SLL Crimes 2001-2012new.xls')"
   ]
  },
  {
   "cell_type": "code",
   "execution_count": 6,
   "metadata": {},
   "outputs": [
    {
     "output_type": "execute_result",
     "data": {
      "text/plain": [
       "                         CRIME   2001   2002   2003   2004   2005   2006  \\\n",
       "0                       Murder  36202  35290  32716  33608  32719  32481   \n",
       "1     Attempt to Commit Murder  31523  30380  25942  27890  28031  27230   \n",
       "2  C H Not amounting to Murder   3367   3624   4029   3935   3578   3535   \n",
       "3                         Rape  16075  16373  15847  18233  18359  19348   \n",
       "4       Kidnapping & Abduction  22487  21850  19992  23327  22832  23991   \n",
       "\n",
       "    2007   2008   2009   2010   2011   2012  \n",
       "0  32318  32766  32369  33335  34305  34434  \n",
       "1  27401  28598  29038  29421  31385  35138  \n",
       "2   3644   3863   3930   3782   3707   3620  \n",
       "3  20737  21467  21397  22172  24206  24923  \n",
       "4  27561  30261  33860  38440  44664  47592  "
      ],
      "text/html": "<div>\n<style scoped>\n    .dataframe tbody tr th:only-of-type {\n        vertical-align: middle;\n    }\n\n    .dataframe tbody tr th {\n        vertical-align: top;\n    }\n\n    .dataframe thead th {\n        text-align: right;\n    }\n</style>\n<table border=\"1\" class=\"dataframe\">\n  <thead>\n    <tr style=\"text-align: right;\">\n      <th></th>\n      <th>CRIME</th>\n      <th>2001</th>\n      <th>2002</th>\n      <th>2003</th>\n      <th>2004</th>\n      <th>2005</th>\n      <th>2006</th>\n      <th>2007</th>\n      <th>2008</th>\n      <th>2009</th>\n      <th>2010</th>\n      <th>2011</th>\n      <th>2012</th>\n    </tr>\n  </thead>\n  <tbody>\n    <tr>\n      <th>0</th>\n      <td>Murder</td>\n      <td>36202</td>\n      <td>35290</td>\n      <td>32716</td>\n      <td>33608</td>\n      <td>32719</td>\n      <td>32481</td>\n      <td>32318</td>\n      <td>32766</td>\n      <td>32369</td>\n      <td>33335</td>\n      <td>34305</td>\n      <td>34434</td>\n    </tr>\n    <tr>\n      <th>1</th>\n      <td>Attempt to Commit Murder</td>\n      <td>31523</td>\n      <td>30380</td>\n      <td>25942</td>\n      <td>27890</td>\n      <td>28031</td>\n      <td>27230</td>\n      <td>27401</td>\n      <td>28598</td>\n      <td>29038</td>\n      <td>29421</td>\n      <td>31385</td>\n      <td>35138</td>\n    </tr>\n    <tr>\n      <th>2</th>\n      <td>C H Not amounting to Murder</td>\n      <td>3367</td>\n      <td>3624</td>\n      <td>4029</td>\n      <td>3935</td>\n      <td>3578</td>\n      <td>3535</td>\n      <td>3644</td>\n      <td>3863</td>\n      <td>3930</td>\n      <td>3782</td>\n      <td>3707</td>\n      <td>3620</td>\n    </tr>\n    <tr>\n      <th>3</th>\n      <td>Rape</td>\n      <td>16075</td>\n      <td>16373</td>\n      <td>15847</td>\n      <td>18233</td>\n      <td>18359</td>\n      <td>19348</td>\n      <td>20737</td>\n      <td>21467</td>\n      <td>21397</td>\n      <td>22172</td>\n      <td>24206</td>\n      <td>24923</td>\n    </tr>\n    <tr>\n      <th>4</th>\n      <td>Kidnapping &amp; Abduction</td>\n      <td>22487</td>\n      <td>21850</td>\n      <td>19992</td>\n      <td>23327</td>\n      <td>22832</td>\n      <td>23991</td>\n      <td>27561</td>\n      <td>30261</td>\n      <td>33860</td>\n      <td>38440</td>\n      <td>44664</td>\n      <td>47592</td>\n    </tr>\n  </tbody>\n</table>\n</div>"
     },
     "metadata": {},
     "execution_count": 6
    }
   ],
   "source": [
    "df.head()"
   ]
  },
  {
   "cell_type": "code",
   "execution_count": 11,
   "metadata": {},
   "outputs": [
    {
     "output_type": "execute_result",
     "data": {
      "text/plain": [
       "Index(['CRIME', '2001', '2002', '2003', '2004', '2005', '2006', '2007', '2008',\n",
       "       '2009', '2010', '2011', '2012'],\n",
       "      dtype='object')"
      ]
     },
     "metadata": {},
     "execution_count": 11
    }
   ],
   "source": [
    "df.columns"
   ]
  },
  {
   "cell_type": "code",
   "execution_count": 31,
   "metadata": {},
   "outputs": [
    {
     "output_type": "execute_result",
     "data": {
      "text/plain": [
       "(47,)"
      ]
     },
     "metadata": {},
     "execution_count": 31
    }
   ],
   "source": [
    "df['CRIME'].shape"
   ]
  },
  {
   "cell_type": "code",
   "execution_count": 35,
   "metadata": {},
   "outputs": [],
   "source": [
    "new_df = pd.pivot_table(df,values=['2001', '2002', '2003', '2004', '2005', '2006', '2007', '2008',\n",
    "       '2009', '2010', '2011', '2012'],columns=['CRIME'])"
   ]
  },
  {
   "cell_type": "code",
   "execution_count": 32,
   "metadata": {},
   "outputs": [
    {
     "output_type": "execute_result",
     "data": {
      "text/plain": [
       "Index(['Antiquities & Art Treasures Act', 'Arms Act, 1959', 'Arson',\n",
       "       'Assault on women with intent to outrage her modesty',\n",
       "       'Attempt to Commit Murder', 'Burglary', 'C H Not amounting to Murder',\n",
       "       'Causing death by negligence', 'Cheating',\n",
       "       'Commission of Sati (P) Act, 1987', 'Copyright Act, 1957',\n",
       "       'Counterfeiting', 'Criminal Breach of Trust',\n",
       "       'Cruelty by Husband or his Relatives', 'Dacoity', 'Dowry Deaths',\n",
       "       'Dowry Prohibition Act, 1961', 'Essential Commodities Act, 1955',\n",
       "       'Excise Act', 'Explosives Substances Act 1908', 'Forest Act, 1927',\n",
       "       'Gambling Act', 'Hurt/Grevious Hurt', 'Immoral Traffic (P) Act, 1956',\n",
       "       'Importation of girls from Foreign Country',\n",
       "       'Indecent Rep. of Women (P) Act', 'Indian Passport Act',\n",
       "       'Indian Railways Act, 1989', 'Insult to Modesty of Women',\n",
       "       'Kidnapping & Abduction', 'Murder', 'NDPS ACT', 'Other IPC Crimes',\n",
       "       'Other SLL Crimes', 'Preparation & Assembly for Dacoity',\n",
       "       'Prohibition Act', 'Prohibition of Child Marriage Act',\n",
       "       'Protection of Civil Rights Act', 'Rape',\n",
       "       'Registration of Foreigners Act', 'Riots', 'Robbery',\n",
       "       'SC/ST (Prev.of Attrocities) Act',\n",
       "       'Terrorist and Disruptive Activities Act', 'Theft', 'Total IPC Crimes',\n",
       "       'Total SLL Crimes'],\n",
       "      dtype='object', name='CRIME')"
      ]
     },
     "metadata": {},
     "execution_count": 32
    }
   ],
   "source": [
    "new_df.columns."
   ]
  },
  {
   "cell_type": "code",
   "execution_count": 33,
   "metadata": {},
   "outputs": [],
   "source": [
    "crimes = ['Murder','Attempt to Commit Murder','C H Not amounting to Murder','Rape','Kidnapping & Abduction','Dacoity','Preparation & Assembly for Dacoity','Robbery','Burglary','Theft','Riots','Criminal Breach of Trust','Cheating','Counterfeiting','Arson','Hurt/Grevious Hurt','Dowry Deaths','Assault on women with intent to outrage her modesty','Insult to Modesty of Women','Cruelty by Husband or his Relatives','Importation of girls from Foreign Country','Causing death by negligence','Other IPC Crimes']\n",
    "\n"
   ]
  },
  {
   "cell_type": "code",
   "execution_count": 36,
   "metadata": {},
   "outputs": [],
   "source": [
    "new_df2 = new_df[crimes]"
   ]
  },
  {
   "cell_type": "code",
   "execution_count": 37,
   "metadata": {},
   "outputs": [
    {
     "output_type": "execute_result",
     "data": {
      "text/plain": [
       "CRIME  Murder  Attempt to Commit Murder  C H Not amounting to Murder   Rape  \\\n",
       "2001    36202                     31523                         3367  16075   \n",
       "2002    35290                     30380                         3624  16373   \n",
       "2003    32716                     25942                         4029  15847   \n",
       "2004    33608                     27890                         3935  18233   \n",
       "2005    32719                     28031                         3578  18359   \n",
       "2006    32481                     27230                         3535  19348   \n",
       "2007    32318                     27401                         3644  20737   \n",
       "2008    32766                     28598                         3863  21467   \n",
       "2009    32369                     29038                         3930  21397   \n",
       "2010    33335                     29421                         3782  22172   \n",
       "2011    34305                     31385                         3707  24206   \n",
       "2012    34434                     35138                         3620  24923   \n",
       "\n",
       "CRIME  Kidnapping & Abduction  Dacoity  Preparation & Assembly for Dacoity  \\\n",
       "2001                    22487     6154                                1614   \n",
       "2002                    21850     6101                                1841   \n",
       "2003                    19992     5303                                2302   \n",
       "2004                    23327     5311                                2340   \n",
       "2005                    22832     5141                                2834   \n",
       "2006                    23991     4747                                3129   \n",
       "2007                    27561     4579                                3205   \n",
       "2008                    30261     4530                                3217   \n",
       "2009                    33860     4586                                2850   \n",
       "2010                    38440     4358                                2615   \n",
       "2011                    44664     4285                                2895   \n",
       "2012                    47592     4314                                3099   \n",
       "\n",
       "CRIME  Robbery  Burglary   Theft  ...  Counterfeiting  Arson  \\\n",
       "2001     19901    101182  252803  ...            1683  10534   \n",
       "2002     18764     96461  247462  ...            1522  11820   \n",
       "2003     17512     92827  245237  ...            2055   9365   \n",
       "2004     18458     92490  273045  ...            1529   8637   \n",
       "2005     17673     90108  273111  ...            2383   8451   \n",
       "2006     18456     91666  274354  ...            2169   8480   \n",
       "2007     19136     91218  285043  ...            2204   9024   \n",
       "2008     20522     93742  316761  ...            2991   9249   \n",
       "2009     22409     92070  324195  ...            2935   8736   \n",
       "2010     23393     90179  330312  ...            2589   8508   \n",
       "2011     24700     92504  340800  ...            2307   9064   \n",
       "2012     27343     92892  337407  ...            2351  11836   \n",
       "\n",
       "CRIME  Hurt/Grevious Hurt  Dowry Deaths  \\\n",
       "2001               271487          6851   \n",
       "2002               265025          6822   \n",
       "2003               261444          6208   \n",
       "2004               276868          7026   \n",
       "2005               270861          6787   \n",
       "2006               264748          7618   \n",
       "2007               273067          8093   \n",
       "2008               284969          8172   \n",
       "2009               279214          8383   \n",
       "2010               289022          8391   \n",
       "2011               302847          8618   \n",
       "2012               332324          8233   \n",
       "\n",
       "CRIME  Assault on women with intent to outrage her modesty  \\\n",
       "2001                                               34124     \n",
       "2002                                               33943     \n",
       "2003                                               32939     \n",
       "2004                                               34567     \n",
       "2005                                               34175     \n",
       "2006                                               36617     \n",
       "2007                                               38734     \n",
       "2008                                               40413     \n",
       "2009                                               38711     \n",
       "2010                                               40613     \n",
       "2011                                               42968     \n",
       "2012                                               45351     \n",
       "\n",
       "CRIME  Insult to Modesty of Women  Cruelty by Husband or his Relatives  \\\n",
       "2001                         9746                                49170   \n",
       "2002                        10155                                49237   \n",
       "2003                        12325                                50703   \n",
       "2004                        10001                                58121   \n",
       "2005                         9984                                58319   \n",
       "2006                         9966                                63128   \n",
       "2007                        10950                                75930   \n",
       "2008                        12214                                81344   \n",
       "2009                        11009                                89546   \n",
       "2010                         9961                                94041   \n",
       "2011                         8570                                99135   \n",
       "2012                         9173                               106527   \n",
       "\n",
       "CRIME  Importation of girls from Foreign Country  Causing death by negligence  \\\n",
       "2001                                         114                        57182   \n",
       "2002                                          76                        64044   \n",
       "2003                                          46                        60672   \n",
       "2004                                          89                        69423   \n",
       "2005                                         149                        71698   \n",
       "2006                                          67                        78513   \n",
       "2007                                          61                        86790   \n",
       "2008                                          67                        92186   \n",
       "2009                                          48                        98532   \n",
       "2010                                          36                       106343   \n",
       "2011                                          80                       108890   \n",
       "2012                                          59                       107591   \n",
       "\n",
       "CRIME  Other IPC Crimes  \n",
       "2001             701362  \n",
       "2002             730297  \n",
       "2003             700412  \n",
       "2004             741031  \n",
       "2005             741977  \n",
       "2006             779697  \n",
       "2007             829206  \n",
       "2008             856963  \n",
       "2009             865541  \n",
       "2010             924072  \n",
       "2011             966032  \n",
       "2012             966244  \n",
       "\n",
       "[12 rows x 23 columns]"
      ],
      "text/html": "<div>\n<style scoped>\n    .dataframe tbody tr th:only-of-type {\n        vertical-align: middle;\n    }\n\n    .dataframe tbody tr th {\n        vertical-align: top;\n    }\n\n    .dataframe thead th {\n        text-align: right;\n    }\n</style>\n<table border=\"1\" class=\"dataframe\">\n  <thead>\n    <tr style=\"text-align: right;\">\n      <th>CRIME</th>\n      <th>Murder</th>\n      <th>Attempt to Commit Murder</th>\n      <th>C H Not amounting to Murder</th>\n      <th>Rape</th>\n      <th>Kidnapping &amp; Abduction</th>\n      <th>Dacoity</th>\n      <th>Preparation &amp; Assembly for Dacoity</th>\n      <th>Robbery</th>\n      <th>Burglary</th>\n      <th>Theft</th>\n      <th>...</th>\n      <th>Counterfeiting</th>\n      <th>Arson</th>\n      <th>Hurt/Grevious Hurt</th>\n      <th>Dowry Deaths</th>\n      <th>Assault on women with intent to outrage her modesty</th>\n      <th>Insult to Modesty of Women</th>\n      <th>Cruelty by Husband or his Relatives</th>\n      <th>Importation of girls from Foreign Country</th>\n      <th>Causing death by negligence</th>\n      <th>Other IPC Crimes</th>\n    </tr>\n  </thead>\n  <tbody>\n    <tr>\n      <th>2001</th>\n      <td>36202</td>\n      <td>31523</td>\n      <td>3367</td>\n      <td>16075</td>\n      <td>22487</td>\n      <td>6154</td>\n      <td>1614</td>\n      <td>19901</td>\n      <td>101182</td>\n      <td>252803</td>\n      <td>...</td>\n      <td>1683</td>\n      <td>10534</td>\n      <td>271487</td>\n      <td>6851</td>\n      <td>34124</td>\n      <td>9746</td>\n      <td>49170</td>\n      <td>114</td>\n      <td>57182</td>\n      <td>701362</td>\n    </tr>\n    <tr>\n      <th>2002</th>\n      <td>35290</td>\n      <td>30380</td>\n      <td>3624</td>\n      <td>16373</td>\n      <td>21850</td>\n      <td>6101</td>\n      <td>1841</td>\n      <td>18764</td>\n      <td>96461</td>\n      <td>247462</td>\n      <td>...</td>\n      <td>1522</td>\n      <td>11820</td>\n      <td>265025</td>\n      <td>6822</td>\n      <td>33943</td>\n      <td>10155</td>\n      <td>49237</td>\n      <td>76</td>\n      <td>64044</td>\n      <td>730297</td>\n    </tr>\n    <tr>\n      <th>2003</th>\n      <td>32716</td>\n      <td>25942</td>\n      <td>4029</td>\n      <td>15847</td>\n      <td>19992</td>\n      <td>5303</td>\n      <td>2302</td>\n      <td>17512</td>\n      <td>92827</td>\n      <td>245237</td>\n      <td>...</td>\n      <td>2055</td>\n      <td>9365</td>\n      <td>261444</td>\n      <td>6208</td>\n      <td>32939</td>\n      <td>12325</td>\n      <td>50703</td>\n      <td>46</td>\n      <td>60672</td>\n      <td>700412</td>\n    </tr>\n    <tr>\n      <th>2004</th>\n      <td>33608</td>\n      <td>27890</td>\n      <td>3935</td>\n      <td>18233</td>\n      <td>23327</td>\n      <td>5311</td>\n      <td>2340</td>\n      <td>18458</td>\n      <td>92490</td>\n      <td>273045</td>\n      <td>...</td>\n      <td>1529</td>\n      <td>8637</td>\n      <td>276868</td>\n      <td>7026</td>\n      <td>34567</td>\n      <td>10001</td>\n      <td>58121</td>\n      <td>89</td>\n      <td>69423</td>\n      <td>741031</td>\n    </tr>\n    <tr>\n      <th>2005</th>\n      <td>32719</td>\n      <td>28031</td>\n      <td>3578</td>\n      <td>18359</td>\n      <td>22832</td>\n      <td>5141</td>\n      <td>2834</td>\n      <td>17673</td>\n      <td>90108</td>\n      <td>273111</td>\n      <td>...</td>\n      <td>2383</td>\n      <td>8451</td>\n      <td>270861</td>\n      <td>6787</td>\n      <td>34175</td>\n      <td>9984</td>\n      <td>58319</td>\n      <td>149</td>\n      <td>71698</td>\n      <td>741977</td>\n    </tr>\n    <tr>\n      <th>2006</th>\n      <td>32481</td>\n      <td>27230</td>\n      <td>3535</td>\n      <td>19348</td>\n      <td>23991</td>\n      <td>4747</td>\n      <td>3129</td>\n      <td>18456</td>\n      <td>91666</td>\n      <td>274354</td>\n      <td>...</td>\n      <td>2169</td>\n      <td>8480</td>\n      <td>264748</td>\n      <td>7618</td>\n      <td>36617</td>\n      <td>9966</td>\n      <td>63128</td>\n      <td>67</td>\n      <td>78513</td>\n      <td>779697</td>\n    </tr>\n    <tr>\n      <th>2007</th>\n      <td>32318</td>\n      <td>27401</td>\n      <td>3644</td>\n      <td>20737</td>\n      <td>27561</td>\n      <td>4579</td>\n      <td>3205</td>\n      <td>19136</td>\n      <td>91218</td>\n      <td>285043</td>\n      <td>...</td>\n      <td>2204</td>\n      <td>9024</td>\n      <td>273067</td>\n      <td>8093</td>\n      <td>38734</td>\n      <td>10950</td>\n      <td>75930</td>\n      <td>61</td>\n      <td>86790</td>\n      <td>829206</td>\n    </tr>\n    <tr>\n      <th>2008</th>\n      <td>32766</td>\n      <td>28598</td>\n      <td>3863</td>\n      <td>21467</td>\n      <td>30261</td>\n      <td>4530</td>\n      <td>3217</td>\n      <td>20522</td>\n      <td>93742</td>\n      <td>316761</td>\n      <td>...</td>\n      <td>2991</td>\n      <td>9249</td>\n      <td>284969</td>\n      <td>8172</td>\n      <td>40413</td>\n      <td>12214</td>\n      <td>81344</td>\n      <td>67</td>\n      <td>92186</td>\n      <td>856963</td>\n    </tr>\n    <tr>\n      <th>2009</th>\n      <td>32369</td>\n      <td>29038</td>\n      <td>3930</td>\n      <td>21397</td>\n      <td>33860</td>\n      <td>4586</td>\n      <td>2850</td>\n      <td>22409</td>\n      <td>92070</td>\n      <td>324195</td>\n      <td>...</td>\n      <td>2935</td>\n      <td>8736</td>\n      <td>279214</td>\n      <td>8383</td>\n      <td>38711</td>\n      <td>11009</td>\n      <td>89546</td>\n      <td>48</td>\n      <td>98532</td>\n      <td>865541</td>\n    </tr>\n    <tr>\n      <th>2010</th>\n      <td>33335</td>\n      <td>29421</td>\n      <td>3782</td>\n      <td>22172</td>\n      <td>38440</td>\n      <td>4358</td>\n      <td>2615</td>\n      <td>23393</td>\n      <td>90179</td>\n      <td>330312</td>\n      <td>...</td>\n      <td>2589</td>\n      <td>8508</td>\n      <td>289022</td>\n      <td>8391</td>\n      <td>40613</td>\n      <td>9961</td>\n      <td>94041</td>\n      <td>36</td>\n      <td>106343</td>\n      <td>924072</td>\n    </tr>\n    <tr>\n      <th>2011</th>\n      <td>34305</td>\n      <td>31385</td>\n      <td>3707</td>\n      <td>24206</td>\n      <td>44664</td>\n      <td>4285</td>\n      <td>2895</td>\n      <td>24700</td>\n      <td>92504</td>\n      <td>340800</td>\n      <td>...</td>\n      <td>2307</td>\n      <td>9064</td>\n      <td>302847</td>\n      <td>8618</td>\n      <td>42968</td>\n      <td>8570</td>\n      <td>99135</td>\n      <td>80</td>\n      <td>108890</td>\n      <td>966032</td>\n    </tr>\n    <tr>\n      <th>2012</th>\n      <td>34434</td>\n      <td>35138</td>\n      <td>3620</td>\n      <td>24923</td>\n      <td>47592</td>\n      <td>4314</td>\n      <td>3099</td>\n      <td>27343</td>\n      <td>92892</td>\n      <td>337407</td>\n      <td>...</td>\n      <td>2351</td>\n      <td>11836</td>\n      <td>332324</td>\n      <td>8233</td>\n      <td>45351</td>\n      <td>9173</td>\n      <td>106527</td>\n      <td>59</td>\n      <td>107591</td>\n      <td>966244</td>\n    </tr>\n  </tbody>\n</table>\n<p>12 rows × 23 columns</p>\n</div>"
     },
     "metadata": {},
     "execution_count": 37
    }
   ],
   "source": [
    "new_df2"
   ]
  },
  {
   "cell_type": "code",
   "execution_count": null,
   "metadata": {},
   "outputs": [],
   "source": []
  }
 ]
}