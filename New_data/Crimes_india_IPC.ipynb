{
 "metadata": {
  "language_info": {
   "codemirror_mode": {
    "name": "ipython",
    "version": 3
   },
   "file_extension": ".py",
   "mimetype": "text/x-python",
   "name": "python",
   "nbconvert_exporter": "python",
   "pygments_lexer": "ipython3",
   "version": "3.8.3-final"
  },
  "orig_nbformat": 2,
  "kernelspec": {
   "name": "python3",
   "display_name": "Python 3.8.3 64-bit ('Anaconda_setup': conda)",
   "metadata": {
    "interpreter": {
     "hash": "60d6ae3535a4e6195853906f058dd7e5d5c126e71d6f2bb78fc611ab47063def"
    }
   }
  }
 },
 "nbformat": 4,
 "nbformat_minor": 2,
 "cells": [
  {
   "cell_type": "code",
   "execution_count": 1,
   "metadata": {},
   "outputs": [],
   "source": [
    "import numpy as np \n",
    "import pandas as pd\n",
    "import matplotlib.pyplot as plt \n",
    "%matplotlib inline \n",
    "from plotly.offline import download_plotlyjs, init_notebook_mode, plot, iplot\n",
    "import plotly.express as px\n",
    "import plotly.graph_objects as go \n",
    "import plotly.figure_factory as ff \n",
    "from plotly.colors import n_colors \n",
    "from plotly.subplots import make_subplots  \n",
    "import seaborn as sns\n",
    "sns.set()"
   ]
  },
  {
   "cell_type": "code",
   "execution_count": 2,
   "metadata": {},
   "outputs": [],
   "source": [
    "df = pd.read_excel('D:/__studymaterial__/7-sem/Capston Project/Crimes_India/New_data/All India IPC & SLL Crimes 2001-2012new.xls')"
   ]
  },
  {
   "cell_type": "code",
   "execution_count": 10,
   "metadata": {},
   "outputs": [
    {
     "output_type": "execute_result",
     "data": {
      "text/plain": [
       "                               CRIME     2001     2002     2003     2004  \\\n",
       "42  Commission of Sati (P) Act, 1987        0        0        0        0   \n",
       "43   SC/ST (Prev.of Attrocities) Act    14780    12570     9388    10066   \n",
       "44                  Forest Act, 1927     5548     4710     3707     3818   \n",
       "45                  Other SLL Crimes  2601981  2767356  2818588  3313146   \n",
       "46                  Total SLL Crimes  3575230  3746198  3778694  4196766   \n",
       "\n",
       "       2005     2006     2007     2008     2009     2010     2011     2012  \n",
       "42        1        0        0        1        0        0        0        0  \n",
       "43     9780     9813    10923    12347    11859    11456    12496    13887  \n",
       "44     4168     4347     4682     5082     4802     6004     7448     6467  \n",
       "45  2385441  2431588  2918947  3008176  3662181  3651654  3089516  2800232  \n",
       "46  3203735  3224167  3743734  3844725  4553872  4525917  3927154  3654371  "
      ],
      "text/html": "<div>\n<style scoped>\n    .dataframe tbody tr th:only-of-type {\n        vertical-align: middle;\n    }\n\n    .dataframe tbody tr th {\n        vertical-align: top;\n    }\n\n    .dataframe thead th {\n        text-align: right;\n    }\n</style>\n<table border=\"1\" class=\"dataframe\">\n  <thead>\n    <tr style=\"text-align: right;\">\n      <th></th>\n      <th>CRIME</th>\n      <th>2001</th>\n      <th>2002</th>\n      <th>2003</th>\n      <th>2004</th>\n      <th>2005</th>\n      <th>2006</th>\n      <th>2007</th>\n      <th>2008</th>\n      <th>2009</th>\n      <th>2010</th>\n      <th>2011</th>\n      <th>2012</th>\n    </tr>\n  </thead>\n  <tbody>\n    <tr>\n      <th>42</th>\n      <td>Commission of Sati (P) Act, 1987</td>\n      <td>0</td>\n      <td>0</td>\n      <td>0</td>\n      <td>0</td>\n      <td>1</td>\n      <td>0</td>\n      <td>0</td>\n      <td>1</td>\n      <td>0</td>\n      <td>0</td>\n      <td>0</td>\n      <td>0</td>\n    </tr>\n    <tr>\n      <th>43</th>\n      <td>SC/ST (Prev.of Attrocities) Act</td>\n      <td>14780</td>\n      <td>12570</td>\n      <td>9388</td>\n      <td>10066</td>\n      <td>9780</td>\n      <td>9813</td>\n      <td>10923</td>\n      <td>12347</td>\n      <td>11859</td>\n      <td>11456</td>\n      <td>12496</td>\n      <td>13887</td>\n    </tr>\n    <tr>\n      <th>44</th>\n      <td>Forest Act, 1927</td>\n      <td>5548</td>\n      <td>4710</td>\n      <td>3707</td>\n      <td>3818</td>\n      <td>4168</td>\n      <td>4347</td>\n      <td>4682</td>\n      <td>5082</td>\n      <td>4802</td>\n      <td>6004</td>\n      <td>7448</td>\n      <td>6467</td>\n    </tr>\n    <tr>\n      <th>45</th>\n      <td>Other SLL Crimes</td>\n      <td>2601981</td>\n      <td>2767356</td>\n      <td>2818588</td>\n      <td>3313146</td>\n      <td>2385441</td>\n      <td>2431588</td>\n      <td>2918947</td>\n      <td>3008176</td>\n      <td>3662181</td>\n      <td>3651654</td>\n      <td>3089516</td>\n      <td>2800232</td>\n    </tr>\n    <tr>\n      <th>46</th>\n      <td>Total SLL Crimes</td>\n      <td>3575230</td>\n      <td>3746198</td>\n      <td>3778694</td>\n      <td>4196766</td>\n      <td>3203735</td>\n      <td>3224167</td>\n      <td>3743734</td>\n      <td>3844725</td>\n      <td>4553872</td>\n      <td>4525917</td>\n      <td>3927154</td>\n      <td>3654371</td>\n    </tr>\n  </tbody>\n</table>\n</div>"
     },
     "metadata": {},
     "execution_count": 10
    }
   ],
   "source": [
    "df.tail()"
   ]
  },
  {
   "source": [
    "# Making A set of Certain 'CRIME' Values and Summing up the Crime from(2001-12)"
   ],
   "cell_type": "markdown",
   "metadata": {}
  },
  {
   "source": [
    "#### *Crimes that will be the part of the new data set.*"
   ],
   "cell_type": "markdown",
   "metadata": {}
  },
  {
   "cell_type": "code",
   "execution_count": 17,
   "metadata": {},
   "outputs": [],
   "source": [
    "\n",
    "crimes = ['Murder','Attempt to Commit Murder','Rape','Kidnapping & Abduction','Dacoity','Robbery','Burglary','Theft','Riots','Criminal Breach of Trust','Cheating','Counterfeiting','Arson','Hurt/Grevious Hurt','Dowry Deaths','Assault on women with intent to outrage her modesty','Insult to Modesty of Women','Cruelty by Husband or his Relatives','Importation of girls from Foreign Country','Causing death by negligence','Other IPC Crimes']\n",
    "\n"
   ]
  },
  {
   "source": [
    "> ***Making a new DataFrame***"
   ],
   "cell_type": "markdown",
   "metadata": {}
  },
  {
   "cell_type": "code",
   "execution_count": 56,
   "metadata": {},
   "outputs": [],
   "source": [
    "Total_crime = df"
   ]
  },
  {
   "cell_type": "code",
   "execution_count": 22,
   "metadata": {},
   "outputs": [],
   "source": [
    "Total_crime['Total'] = df.iloc[:,1:12].sum(axis=1)"
   ]
  },
  {
   "cell_type": "code",
   "execution_count": 23,
   "metadata": {},
   "outputs": [
    {
     "output_type": "execute_result",
     "data": {
      "text/plain": [
       "                         CRIME   2001   2002   2003   2004   2005   2006  \\\n",
       "0                       Murder  36202  35290  32716  33608  32719  32481   \n",
       "1     Attempt to Commit Murder  31523  30380  25942  27890  28031  27230   \n",
       "2  C H Not amounting to Murder   3367   3624   4029   3935   3578   3535   \n",
       "3                         Rape  16075  16373  15847  18233  18359  19348   \n",
       "4       Kidnapping & Abduction  22487  21850  19992  23327  22832  23991   \n",
       "\n",
       "    2007   2008   2009   2010   2011   2012   Total  \n",
       "0  32318  32766  32369  33335  34305  34434  368109  \n",
       "1  27401  28598  29038  29421  31385  35138  316839  \n",
       "2   3644   3863   3930   3782   3707   3620   40994  \n",
       "3  20737  21467  21397  22172  24206  24923  214214  \n",
       "4  27561  30261  33860  38440  44664  47592  309265  "
      ],
      "text/html": "<div>\n<style scoped>\n    .dataframe tbody tr th:only-of-type {\n        vertical-align: middle;\n    }\n\n    .dataframe tbody tr th {\n        vertical-align: top;\n    }\n\n    .dataframe thead th {\n        text-align: right;\n    }\n</style>\n<table border=\"1\" class=\"dataframe\">\n  <thead>\n    <tr style=\"text-align: right;\">\n      <th></th>\n      <th>CRIME</th>\n      <th>2001</th>\n      <th>2002</th>\n      <th>2003</th>\n      <th>2004</th>\n      <th>2005</th>\n      <th>2006</th>\n      <th>2007</th>\n      <th>2008</th>\n      <th>2009</th>\n      <th>2010</th>\n      <th>2011</th>\n      <th>2012</th>\n      <th>Total</th>\n    </tr>\n  </thead>\n  <tbody>\n    <tr>\n      <th>0</th>\n      <td>Murder</td>\n      <td>36202</td>\n      <td>35290</td>\n      <td>32716</td>\n      <td>33608</td>\n      <td>32719</td>\n      <td>32481</td>\n      <td>32318</td>\n      <td>32766</td>\n      <td>32369</td>\n      <td>33335</td>\n      <td>34305</td>\n      <td>34434</td>\n      <td>368109</td>\n    </tr>\n    <tr>\n      <th>1</th>\n      <td>Attempt to Commit Murder</td>\n      <td>31523</td>\n      <td>30380</td>\n      <td>25942</td>\n      <td>27890</td>\n      <td>28031</td>\n      <td>27230</td>\n      <td>27401</td>\n      <td>28598</td>\n      <td>29038</td>\n      <td>29421</td>\n      <td>31385</td>\n      <td>35138</td>\n      <td>316839</td>\n    </tr>\n    <tr>\n      <th>2</th>\n      <td>C H Not amounting to Murder</td>\n      <td>3367</td>\n      <td>3624</td>\n      <td>4029</td>\n      <td>3935</td>\n      <td>3578</td>\n      <td>3535</td>\n      <td>3644</td>\n      <td>3863</td>\n      <td>3930</td>\n      <td>3782</td>\n      <td>3707</td>\n      <td>3620</td>\n      <td>40994</td>\n    </tr>\n    <tr>\n      <th>3</th>\n      <td>Rape</td>\n      <td>16075</td>\n      <td>16373</td>\n      <td>15847</td>\n      <td>18233</td>\n      <td>18359</td>\n      <td>19348</td>\n      <td>20737</td>\n      <td>21467</td>\n      <td>21397</td>\n      <td>22172</td>\n      <td>24206</td>\n      <td>24923</td>\n      <td>214214</td>\n    </tr>\n    <tr>\n      <th>4</th>\n      <td>Kidnapping &amp; Abduction</td>\n      <td>22487</td>\n      <td>21850</td>\n      <td>19992</td>\n      <td>23327</td>\n      <td>22832</td>\n      <td>23991</td>\n      <td>27561</td>\n      <td>30261</td>\n      <td>33860</td>\n      <td>38440</td>\n      <td>44664</td>\n      <td>47592</td>\n      <td>309265</td>\n    </tr>\n  </tbody>\n</table>\n</div>"
     },
     "metadata": {},
     "execution_count": 23
    }
   ],
   "source": [
    "Total_crime.head()"
   ]
  },
  {
   "cell_type": "code",
   "execution_count": 25,
   "metadata": {},
   "outputs": [],
   "source": [
    "Total_crime.drop(columns=['2001', '2002', '2003', '2004', '2005', '2006', '2007', '2008','2009', '2010', '2011', '2012'],axis=1,inplace=True)"
   ]
  },
  {
   "cell_type": "code",
   "execution_count": 36,
   "metadata": {},
   "outputs": [
    {
     "output_type": "execute_result",
     "data": {
      "text/plain": [
       "                                                CRIME     Total\n",
       "0                                              Murder    368109\n",
       "1                            Attempt to Commit Murder    316839\n",
       "2                         C H Not amounting to Murder     40994\n",
       "3                                                Rape    214214\n",
       "4                              Kidnapping & Abduction    309265\n",
       "5                                             Dacoity     55095\n",
       "6                  Preparation & Assembly for Dacoity     28842\n",
       "7                                             Robbery    220924\n",
       "8                                            Burglary   1024447\n",
       "9                                               Theft   3163123\n",
       "10                                              Riots    700294\n",
       "11                           Criminal Breach of Trust    166120\n",
       "12                                           Cheating    673394\n",
       "13                                     Counterfeiting     24367\n",
       "14                                              Arson    101868\n",
       "15                                 Hurt/Grevious Hurt   3039552\n",
       "16                                       Dowry Deaths     82969\n",
       "17  Assault on women with intent to outrage her mo...    407804\n",
       "18                         Insult to Modesty of Women    114881\n",
       "19                Cruelty by Husband or his Relatives    768674\n",
       "20          Importation of girls from Foreign Country       833\n",
       "21                        Causing death by negligence    894273\n",
       "22                                   Other IPC Crimes   8836590\n",
       "23                                   Total IPC Crimes  21553471\n",
       "24                                     Arms Act, 1959    791531\n",
       "25                                           NDPS ACT    310880\n",
       "26                                       Gambling Act   1871661\n",
       "27                                         Excise Act   1637272\n",
       "28                                    Prohibition Act   4363726\n",
       "29                     Explosives Substances Act 1908     45791\n",
       "30                      Immoral Traffic (P) Act, 1956     50738\n",
       "31                          Indian Railways Act, 1989    183598\n",
       "32                     Registration of Foreigners Act     17171\n",
       "33                     Protection of Civil Rights Act      4597\n",
       "34                                Indian Passport Act      9589\n",
       "35                    Essential Commodities Act, 1955     73748\n",
       "36            Terrorist and Disruptive Activities Act       270\n",
       "37                    Antiquities & Art Treasures Act       585\n",
       "38                        Dowry Prohibition Act, 1961     48651\n",
       "39                  Prohibition of Child Marriage Act       953\n",
       "40                     Indecent Rep. of Women (P) Act     14878\n",
       "41                                Copyright Act, 1957     66183\n",
       "42                   Commission of Sati (P) Act, 1987         2\n",
       "43                    SC/ST (Prev.of Attrocities) Act    125478\n",
       "44                                   Forest Act, 1927     54316\n",
       "45                                   Other SLL Crimes  32648574\n",
       "46                                   Total SLL Crimes  42320192"
      ],
      "text/html": "<div>\n<style scoped>\n    .dataframe tbody tr th:only-of-type {\n        vertical-align: middle;\n    }\n\n    .dataframe tbody tr th {\n        vertical-align: top;\n    }\n\n    .dataframe thead th {\n        text-align: right;\n    }\n</style>\n<table border=\"1\" class=\"dataframe\">\n  <thead>\n    <tr style=\"text-align: right;\">\n      <th></th>\n      <th>CRIME</th>\n      <th>Total</th>\n    </tr>\n  </thead>\n  <tbody>\n    <tr>\n      <th>0</th>\n      <td>Murder</td>\n      <td>368109</td>\n    </tr>\n    <tr>\n      <th>1</th>\n      <td>Attempt to Commit Murder</td>\n      <td>316839</td>\n    </tr>\n    <tr>\n      <th>2</th>\n      <td>C H Not amounting to Murder</td>\n      <td>40994</td>\n    </tr>\n    <tr>\n      <th>3</th>\n      <td>Rape</td>\n      <td>214214</td>\n    </tr>\n    <tr>\n      <th>4</th>\n      <td>Kidnapping &amp; Abduction</td>\n      <td>309265</td>\n    </tr>\n    <tr>\n      <th>5</th>\n      <td>Dacoity</td>\n      <td>55095</td>\n    </tr>\n    <tr>\n      <th>6</th>\n      <td>Preparation &amp; Assembly for Dacoity</td>\n      <td>28842</td>\n    </tr>\n    <tr>\n      <th>7</th>\n      <td>Robbery</td>\n      <td>220924</td>\n    </tr>\n    <tr>\n      <th>8</th>\n      <td>Burglary</td>\n      <td>1024447</td>\n    </tr>\n    <tr>\n      <th>9</th>\n      <td>Theft</td>\n      <td>3163123</td>\n    </tr>\n    <tr>\n      <th>10</th>\n      <td>Riots</td>\n      <td>700294</td>\n    </tr>\n    <tr>\n      <th>11</th>\n      <td>Criminal Breach of Trust</td>\n      <td>166120</td>\n    </tr>\n    <tr>\n      <th>12</th>\n      <td>Cheating</td>\n      <td>673394</td>\n    </tr>\n    <tr>\n      <th>13</th>\n      <td>Counterfeiting</td>\n      <td>24367</td>\n    </tr>\n    <tr>\n      <th>14</th>\n      <td>Arson</td>\n      <td>101868</td>\n    </tr>\n    <tr>\n      <th>15</th>\n      <td>Hurt/Grevious Hurt</td>\n      <td>3039552</td>\n    </tr>\n    <tr>\n      <th>16</th>\n      <td>Dowry Deaths</td>\n      <td>82969</td>\n    </tr>\n    <tr>\n      <th>17</th>\n      <td>Assault on women with intent to outrage her mo...</td>\n      <td>407804</td>\n    </tr>\n    <tr>\n      <th>18</th>\n      <td>Insult to Modesty of Women</td>\n      <td>114881</td>\n    </tr>\n    <tr>\n      <th>19</th>\n      <td>Cruelty by Husband or his Relatives</td>\n      <td>768674</td>\n    </tr>\n    <tr>\n      <th>20</th>\n      <td>Importation of girls from Foreign Country</td>\n      <td>833</td>\n    </tr>\n    <tr>\n      <th>21</th>\n      <td>Causing death by negligence</td>\n      <td>894273</td>\n    </tr>\n    <tr>\n      <th>22</th>\n      <td>Other IPC Crimes</td>\n      <td>8836590</td>\n    </tr>\n    <tr>\n      <th>23</th>\n      <td>Total IPC Crimes</td>\n      <td>21553471</td>\n    </tr>\n    <tr>\n      <th>24</th>\n      <td>Arms Act, 1959</td>\n      <td>791531</td>\n    </tr>\n    <tr>\n      <th>25</th>\n      <td>NDPS ACT</td>\n      <td>310880</td>\n    </tr>\n    <tr>\n      <th>26</th>\n      <td>Gambling Act</td>\n      <td>1871661</td>\n    </tr>\n    <tr>\n      <th>27</th>\n      <td>Excise Act</td>\n      <td>1637272</td>\n    </tr>\n    <tr>\n      <th>28</th>\n      <td>Prohibition Act</td>\n      <td>4363726</td>\n    </tr>\n    <tr>\n      <th>29</th>\n      <td>Explosives Substances Act 1908</td>\n      <td>45791</td>\n    </tr>\n    <tr>\n      <th>30</th>\n      <td>Immoral Traffic (P) Act, 1956</td>\n      <td>50738</td>\n    </tr>\n    <tr>\n      <th>31</th>\n      <td>Indian Railways Act, 1989</td>\n      <td>183598</td>\n    </tr>\n    <tr>\n      <th>32</th>\n      <td>Registration of Foreigners Act</td>\n      <td>17171</td>\n    </tr>\n    <tr>\n      <th>33</th>\n      <td>Protection of Civil Rights Act</td>\n      <td>4597</td>\n    </tr>\n    <tr>\n      <th>34</th>\n      <td>Indian Passport Act</td>\n      <td>9589</td>\n    </tr>\n    <tr>\n      <th>35</th>\n      <td>Essential Commodities Act, 1955</td>\n      <td>73748</td>\n    </tr>\n    <tr>\n      <th>36</th>\n      <td>Terrorist and Disruptive Activities Act</td>\n      <td>270</td>\n    </tr>\n    <tr>\n      <th>37</th>\n      <td>Antiquities &amp; Art Treasures Act</td>\n      <td>585</td>\n    </tr>\n    <tr>\n      <th>38</th>\n      <td>Dowry Prohibition Act, 1961</td>\n      <td>48651</td>\n    </tr>\n    <tr>\n      <th>39</th>\n      <td>Prohibition of Child Marriage Act</td>\n      <td>953</td>\n    </tr>\n    <tr>\n      <th>40</th>\n      <td>Indecent Rep. of Women (P) Act</td>\n      <td>14878</td>\n    </tr>\n    <tr>\n      <th>41</th>\n      <td>Copyright Act, 1957</td>\n      <td>66183</td>\n    </tr>\n    <tr>\n      <th>42</th>\n      <td>Commission of Sati (P) Act, 1987</td>\n      <td>2</td>\n    </tr>\n    <tr>\n      <th>43</th>\n      <td>SC/ST (Prev.of Attrocities) Act</td>\n      <td>125478</td>\n    </tr>\n    <tr>\n      <th>44</th>\n      <td>Forest Act, 1927</td>\n      <td>54316</td>\n    </tr>\n    <tr>\n      <th>45</th>\n      <td>Other SLL Crimes</td>\n      <td>32648574</td>\n    </tr>\n    <tr>\n      <th>46</th>\n      <td>Total SLL Crimes</td>\n      <td>42320192</td>\n    </tr>\n  </tbody>\n</table>\n</div>"
     },
     "metadata": {},
     "execution_count": 36
    }
   ],
   "source": [
    "Total_crime"
   ]
  },
  {
   "cell_type": "code",
   "execution_count": 50,
   "metadata": {},
   "outputs": [
    {
     "output_type": "execute_result",
     "data": {
      "text/plain": [
       "(47, 2)"
      ]
     },
     "metadata": {},
     "execution_count": 50
    }
   ],
   "source": [
    "Total_crime.shape"
   ]
  },
  {
   "source": [
    "### ***DataFrame-\"Total_crime\" is updated with only particular list of crimes***"
   ],
   "cell_type": "markdown",
   "metadata": {}
  },
  {
   "cell_type": "code",
   "execution_count": 53,
   "metadata": {},
   "outputs": [],
   "source": [
    "crimes = ['Murder','Attempt to Commit Murder','Rape','Kidnapping & Abduction','Dacoity','Robbery','Burglary','Theft','Riots','Criminal Breach of Trust','Cheating','Counterfeiting','Arson','Hurt/Grevious Hurt','Dowry Deaths','Assault on women with intent to outrage her modesty','Insult to Modesty of Women','Cruelty by Husband or his Relatives','Importation of girls from Foreign Country','Causing death by negligence','Other IPC Crimes']\n",
    "\n",
    "for c in crimes:\n",
    "    Total_crime=Total_crime[Total_crime['CRIME'] != c]\n",
    "Total_crime.reset_index(inplace=True)\n",
    "Total_crime.drop(columns=['index'],inplace=True)\n"
   ]
  },
  {
   "cell_type": "code",
   "execution_count": null,
   "metadata": {},
   "outputs": [],
   "source": []
  },
  {
   "cell_type": "code",
   "execution_count": 54,
   "metadata": {},
   "outputs": [
    {
     "output_type": "execute_result",
     "data": {
      "text/plain": [
       "                                      CRIME     Total\n",
       "0               C H Not amounting to Murder     40994\n",
       "1        Preparation & Assembly for Dacoity     28842\n",
       "2                          Total IPC Crimes  21553471\n",
       "3                            Arms Act, 1959    791531\n",
       "4                                  NDPS ACT    310880\n",
       "5                              Gambling Act   1871661\n",
       "6                                Excise Act   1637272\n",
       "7                           Prohibition Act   4363726\n",
       "8            Explosives Substances Act 1908     45791\n",
       "9             Immoral Traffic (P) Act, 1956     50738\n",
       "10                Indian Railways Act, 1989    183598\n",
       "11           Registration of Foreigners Act     17171\n",
       "12           Protection of Civil Rights Act      4597\n",
       "13                      Indian Passport Act      9589\n",
       "14          Essential Commodities Act, 1955     73748\n",
       "15  Terrorist and Disruptive Activities Act       270\n",
       "16          Antiquities & Art Treasures Act       585\n",
       "17              Dowry Prohibition Act, 1961     48651\n",
       "18        Prohibition of Child Marriage Act       953\n",
       "19           Indecent Rep. of Women (P) Act     14878\n",
       "20                      Copyright Act, 1957     66183\n",
       "21         Commission of Sati (P) Act, 1987         2\n",
       "22          SC/ST (Prev.of Attrocities) Act    125478\n",
       "23                         Forest Act, 1927     54316\n",
       "24                         Other SLL Crimes  32648574\n",
       "25                         Total SLL Crimes  42320192"
      ],
      "text/html": "<div>\n<style scoped>\n    .dataframe tbody tr th:only-of-type {\n        vertical-align: middle;\n    }\n\n    .dataframe tbody tr th {\n        vertical-align: top;\n    }\n\n    .dataframe thead th {\n        text-align: right;\n    }\n</style>\n<table border=\"1\" class=\"dataframe\">\n  <thead>\n    <tr style=\"text-align: right;\">\n      <th></th>\n      <th>CRIME</th>\n      <th>Total</th>\n    </tr>\n  </thead>\n  <tbody>\n    <tr>\n      <th>0</th>\n      <td>C H Not amounting to Murder</td>\n      <td>40994</td>\n    </tr>\n    <tr>\n      <th>1</th>\n      <td>Preparation &amp; Assembly for Dacoity</td>\n      <td>28842</td>\n    </tr>\n    <tr>\n      <th>2</th>\n      <td>Total IPC Crimes</td>\n      <td>21553471</td>\n    </tr>\n    <tr>\n      <th>3</th>\n      <td>Arms Act, 1959</td>\n      <td>791531</td>\n    </tr>\n    <tr>\n      <th>4</th>\n      <td>NDPS ACT</td>\n      <td>310880</td>\n    </tr>\n    <tr>\n      <th>5</th>\n      <td>Gambling Act</td>\n      <td>1871661</td>\n    </tr>\n    <tr>\n      <th>6</th>\n      <td>Excise Act</td>\n      <td>1637272</td>\n    </tr>\n    <tr>\n      <th>7</th>\n      <td>Prohibition Act</td>\n      <td>4363726</td>\n    </tr>\n    <tr>\n      <th>8</th>\n      <td>Explosives Substances Act 1908</td>\n      <td>45791</td>\n    </tr>\n    <tr>\n      <th>9</th>\n      <td>Immoral Traffic (P) Act, 1956</td>\n      <td>50738</td>\n    </tr>\n    <tr>\n      <th>10</th>\n      <td>Indian Railways Act, 1989</td>\n      <td>183598</td>\n    </tr>\n    <tr>\n      <th>11</th>\n      <td>Registration of Foreigners Act</td>\n      <td>17171</td>\n    </tr>\n    <tr>\n      <th>12</th>\n      <td>Protection of Civil Rights Act</td>\n      <td>4597</td>\n    </tr>\n    <tr>\n      <th>13</th>\n      <td>Indian Passport Act</td>\n      <td>9589</td>\n    </tr>\n    <tr>\n      <th>14</th>\n      <td>Essential Commodities Act, 1955</td>\n      <td>73748</td>\n    </tr>\n    <tr>\n      <th>15</th>\n      <td>Terrorist and Disruptive Activities Act</td>\n      <td>270</td>\n    </tr>\n    <tr>\n      <th>16</th>\n      <td>Antiquities &amp; Art Treasures Act</td>\n      <td>585</td>\n    </tr>\n    <tr>\n      <th>17</th>\n      <td>Dowry Prohibition Act, 1961</td>\n      <td>48651</td>\n    </tr>\n    <tr>\n      <th>18</th>\n      <td>Prohibition of Child Marriage Act</td>\n      <td>953</td>\n    </tr>\n    <tr>\n      <th>19</th>\n      <td>Indecent Rep. of Women (P) Act</td>\n      <td>14878</td>\n    </tr>\n    <tr>\n      <th>20</th>\n      <td>Copyright Act, 1957</td>\n      <td>66183</td>\n    </tr>\n    <tr>\n      <th>21</th>\n      <td>Commission of Sati (P) Act, 1987</td>\n      <td>2</td>\n    </tr>\n    <tr>\n      <th>22</th>\n      <td>SC/ST (Prev.of Attrocities) Act</td>\n      <td>125478</td>\n    </tr>\n    <tr>\n      <th>23</th>\n      <td>Forest Act, 1927</td>\n      <td>54316</td>\n    </tr>\n    <tr>\n      <th>24</th>\n      <td>Other SLL Crimes</td>\n      <td>32648574</td>\n    </tr>\n    <tr>\n      <th>25</th>\n      <td>Total SLL Crimes</td>\n      <td>42320192</td>\n    </tr>\n  </tbody>\n</table>\n</div>"
     },
     "metadata": {},
     "execution_count": 54
    }
   ],
   "source": [
    "Total_crime"
   ]
  },
  {
   "cell_type": "code",
   "execution_count": null,
   "metadata": {},
   "outputs": [],
   "source": []
  }
 ]
}